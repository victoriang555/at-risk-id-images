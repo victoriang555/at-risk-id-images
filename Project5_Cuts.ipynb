{
 "cells": [
  {
   "cell_type": "code",
   "execution_count": 1,
   "metadata": {},
   "outputs": [],
   "source": [
    "def scrape_image_links(starting_link):\n",
    "    os.environ['webdriver.chrome.driver'] = 'chromedriver'\n",
    "    driver = webdriver.Chrome()\n",
    "    driver.get(starting_link)\n",
    "    \n",
    "#     for item in range(limit):\n",
    "    list_of_srcs = []\n",
    "    list_of_elements = driver.find_elements_by_css_selector('.rg_ic.rg_i') # returns a list of all web elements with that class name\n",
    "    for element in list_of_elements:\n",
    "        src = element.get_attribute(\"src\")\n",
    "        list_of_srcs.append(src)\n",
    "    return list_of_srcs"
   ]
  },
  {
   "cell_type": "code",
   "execution_count": 2,
   "metadata": {},
   "outputs": [
    {
     "data": {
      "text/plain": [
       "('local-filename.jpg', <http.client.HTTPMessage at 0x7fec4c454710>)"
      ]
     },
     "execution_count": 2,
     "metadata": {},
     "output_type": "execute_result"
    }
   ],
   "source": [
    "import urllib.request\n",
    "\n",
    "urllib.request.urlretrieve(\"http://www.digimouth.com/news/media/2011/09/google-logo.jpg\", \"local-filename.jpg\")"
   ]
  },
  {
   "cell_type": "code",
   "execution_count": null,
   "metadata": {},
   "outputs": [],
   "source": [
    "\n",
    "\n",
    "img_data = requests.get('data:image/jpeg;base64,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').content\n",
    "with open('image_name.jpg', 'wb') as handler:\n",
    "    handler.write(img_data)"
   ]
  },
  {
   "cell_type": "code",
   "execution_count": null,
   "metadata": {},
   "outputs": [],
   "source": [
    "def label_images():\n",
    "    \n",
    "\n",
    "\n",
    "listOfImageNames = ['/path/to/images/1.png',\n",
    "                    '/path/to/images/2.png']\n",
    "\n",
    "for imageName in listOfImageNames:\n",
    "    display(Image(filename=imageName))"
   ]
  },
  {
   "cell_type": "code",
   "execution_count": null,
   "metadata": {},
   "outputs": [],
   "source": [
    "from matplotlib.pyplot import figure, imshow, axis\n",
    "from matplotlib.image import imread\n",
    "\n",
    "def showImagesHorizontally(list_of_files):\n",
    "    fig = figure()\n",
    "    number_of_files = len(list_of_files)\n",
    "    for i in range(number_of_files):\n",
    "        a=fig.add_subplot(1,number_of_files,i+1)\n",
    "        image = imread(list_of_files[i])\n",
    "        imshow(image,cmap='Greys_r')\n",
    "        axis('off')"
   ]
  },
  {
   "cell_type": "code",
   "execution_count": null,
   "metadata": {},
   "outputs": [],
   "source": [
    "%matplotlib inline\n",
    "import matplotlib.pyplot as plt\n",
    "import numpy as np\n",
    "\n",
    "from IPython.display import display, Image\n",
    "\n",
    "from glob import glob"
   ]
  },
  {
   "cell_type": "code",
   "execution_count": null,
   "metadata": {},
   "outputs": [],
   "source": [
    "import PIL\n",
    "images = [ PIL.Image.open(f) for f in glob('thinspo_google/anamia tumblr/test/*') ]\n",
    "\n",
    "def img2array(im):\n",
    "    if im.mode != 'RGB':\n",
    "        im = im.convert(mode='RGB')\n",
    "    return np.fromstring(im.tobytes(), dtype='uint8').reshape((im.size[1], im.size[0], 3))\n",
    "\n",
    "np_images = [ img2array(im) for im in images ]"
   ]
  },
  {
   "cell_type": "code",
   "execution_count": null,
   "metadata": {},
   "outputs": [],
   "source": [
    "for idx, img in enumerate(np_images):\n",
    "    plt.figure(figsize=(7,7))\n",
    "    plt.title(idx)\n",
    "    plt.axis('off')\n",
    "    plt.imshow(img)"
   ]
  },
  {
   "cell_type": "code",
   "execution_count": null,
   "metadata": {},
   "outputs": [],
   "source": [
    "def img2array(filepath):\n",
    "    images = [PIL.Image.open(f) for f in glob('{}/*'.format(filepath))]\n",
    "    image_dict = {}\n",
    "    image_list = []\n",
    "    for im in images:\n",
    "        try:\n",
    "            if im.mode != 'RGB':\n",
    "                im = im.convert(mode='RGB')\n",
    "                image_file = np.fromstring(im.tobytes(), dtype='uint8').reshape((im.size[1], im.size[0], 3))\n",
    "                image_dict[im] = [image_file, 1]\n",
    "                image_list.append(image_file)\n",
    "            else:\n",
    "                image_file = np.fromstring(im.tobytes(), dtype='uint8').reshape((im.size[1], im.size[0], 3))\n",
    "                image_dict[im] = [image_file, 1]\n",
    "                image_list.append(image_file)\n",
    "        except Exception as e:\n",
    "            print(e)\n",
    "    return image_dict, image_list\n"
   ]
  },
  {
   "cell_type": "code",
   "execution_count": null,
   "metadata": {},
   "outputs": [],
   "source": []
  },
  {
   "cell_type": "code",
   "execution_count": null,
   "metadata": {},
   "outputs": [],
   "source": []
  },
  {
   "cell_type": "code",
   "execution_count": null,
   "metadata": {},
   "outputs": [],
   "source": []
  },
  {
   "cell_type": "code",
   "execution_count": null,
   "metadata": {},
   "outputs": [],
   "source": []
  }
 ],
 "metadata": {
  "kernelspec": {
   "display_name": "Python 3",
   "language": "python",
   "name": "python3"
  },
  "language_info": {
   "codemirror_mode": {
    "name": "ipython",
    "version": 3
   },
   "file_extension": ".py",
   "mimetype": "text/x-python",
   "name": "python",
   "nbconvert_exporter": "python",
   "pygments_lexer": "ipython3",
   "version": "3.6.5"
  }
 },
 "nbformat": 4,
 "nbformat_minor": 2
}
