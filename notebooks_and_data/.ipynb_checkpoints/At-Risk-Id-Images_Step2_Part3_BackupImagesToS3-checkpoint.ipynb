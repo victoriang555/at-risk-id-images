{
 "cells": [
  {
   "cell_type": "code",
   "execution_count": null,
   "metadata": {},
   "outputs": [],
   "source": []
  },
  {
   "cell_type": "code",
   "execution_count": null,
   "metadata": {},
   "outputs": [],
   "source": []
  },
  {
   "cell_type": "code",
   "execution_count": null,
   "metadata": {},
   "outputs": [],
   "source": []
  },
  {
   "cell_type": "code",
   "execution_count": null,
   "metadata": {},
   "outputs": [],
   "source": []
  },
  {
   "cell_type": "markdown",
   "metadata": {},
   "source": [
    "# Import Libraries"
   ]
  },
  {
   "cell_type": "code",
   "execution_count": null,
   "metadata": {},
   "outputs": [],
   "source": []
  },
  {
   "cell_type": "markdown",
   "metadata": {},
   "source": [
    "# Define a function to scrape links of related images"
   ]
  },
  {
   "cell_type": "code",
   "execution_count": null,
   "metadata": {},
   "outputs": [],
   "source": []
  },
  {
   "cell_type": "markdown",
   "metadata": {},
   "source": [
    "# Prepare S3 buckets"
   ]
  },
  {
   "cell_type": "code",
   "execution_count": 1,
   "metadata": {},
   "outputs": [],
   "source": [
    "def create_s3_bucket(bucket_name):\n",
    "    '''\n",
    "    Create an S3 bucket from the bucket name.\n",
    "    param: bucket name\n",
    "    '''\n",
    "    conn = S3Connection(os.environ['AWS_ACCESS_KEY'], os.environ['Ahttps://spring-chi18-metis.slack.com/messagesWS_SECRET_KEY'])\n",
    "    bucket = conn.create_bucket(bucket_name)\n",
    "    return bucket"
   ]
  },
  {
   "cell_type": "code",
   "execution_count": 2,
   "metadata": {},
   "outputs": [],
   "source": [
    "def get_s3_bucket(bucket_name):\n",
    "    '''\n",
    "    Get an S3 bucket from the bucket name.\n",
    "    param: bucket name\n",
    "    '''\n",
    "    conn = S3Connection(os.environ['AWS_ACCESS_KEY'], os.environ['AWS_SECRET_KEY'])\n",
    "    bucket = conn.get_bucket(bucket_name)\n",
    "    return bucket"
   ]
  },
  {
   "cell_type": "markdown",
   "metadata": {},
   "source": [
    "# Define a function to upload image files to S3 bucket"
   ]
  },
  {
   "cell_type": "code",
   "execution_count": 3,
   "metadata": {},
   "outputs": [],
   "source": [
    "def add_object_to_bucket(bucket, key_name, object_to_upload):\n",
    "    '''\n",
    "    Add an object to an S3 bucket.\n",
    "    param: bucket: the s3 bucket object\n",
    "    param: key_name: a string that represents the key name that will be stored\n",
    "    param: object: the python object that you want to assign to that key\n",
    "    '''\n",
    "    pickle.dump(object_to_upload, open(\"/Users/zachariahmiller/temp.p\", \"wb\"))\n",
    "    k = Key(bucket)\n",
    "    k.key = key_name\n",
    "    k.set_contents_from_filename(\"downloads/{}\".format())\n",
    "    return None"
   ]
  },
  {
   "cell_type": "markdown",
   "metadata": {},
   "source": [
    "# Define a function to obtain images from S3 bucket"
   ]
  },
  {
   "cell_type": "code",
   "execution_count": 4,
   "metadata": {},
   "outputs": [],
   "source": [
    "def get_object_from_bucket(bucket, key_name):\n",
    "    '''\n",
    "    Add an object to an S3 bucket.\n",
    "    param: bucket: the s3 bucket object\n",
    "    param: key_name: a string that represents the key name that will be stored\n",
    "\n",
    "    returns: object from s3 bucket\n",
    "    '''\n",
    "    k = Key(bucket)\n",
    "    k.key = key_name\n",
    "    k.get_contents_to_filename(\"/Users/zachariahmiller/temp.p\")\n",
    "    new_object = pickle.load(open(\"/Users/zachariahmiller/temp.p\", \"rb\"))\n",
    "    return new_object"
   ]
  },
  {
   "cell_type": "code",
   "execution_count": null,
   "metadata": {},
   "outputs": [],
   "source": []
  },
  {
   "cell_type": "code",
   "execution_count": null,
   "metadata": {},
   "outputs": [],
   "source": []
  },
  {
   "cell_type": "code",
   "execution_count": null,
   "metadata": {},
   "outputs": [],
   "source": []
  },
  {
   "cell_type": "code",
   "execution_count": null,
   "metadata": {},
   "outputs": [],
   "source": []
  },
  {
   "cell_type": "code",
   "execution_count": null,
   "metadata": {},
   "outputs": [],
   "source": []
  }
 ],
 "metadata": {
  "kernelspec": {
   "display_name": "Python 3",
   "language": "python",
   "name": "python3"
  },
  "language_info": {
   "codemirror_mode": {
    "name": "ipython",
    "version": 3
   },
   "file_extension": ".py",
   "mimetype": "text/x-python",
   "name": "python",
   "nbconvert_exporter": "python",
   "pygments_lexer": "ipython3",
   "version": "3.6.5"
  }
 },
 "nbformat": 4,
 "nbformat_minor": 2
}
