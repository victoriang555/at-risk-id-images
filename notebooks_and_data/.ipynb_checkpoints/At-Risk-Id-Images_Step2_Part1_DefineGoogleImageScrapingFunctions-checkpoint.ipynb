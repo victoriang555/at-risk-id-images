{
 "cells": [
  {
   "cell_type": "markdown",
   "metadata": {},
   "source": []
  },
  {
   "cell_type": "code",
   "execution_count": null,
   "metadata": {},
   "outputs": [],
   "source": []
  },
  {
   "cell_type": "markdown",
   "metadata": {},
   "source": [
    "# Import Libraries"
   ]
  },
  {
   "cell_type": "code",
   "execution_count": 46,
   "metadata": {
    "scrolled": true
   },
   "outputs": [],
   "source": [
    "# General system libraries\n",
    "import os\n",
    "import sys\n",
    "from IPython.display import Image, Markdown, display\n",
    "import logging\n",
    "logging.basicConfig(format='%(asctime)s : %(levelname)s : %(message)s', level=logging.INFO)\n",
    "\n",
    "# Dataframe libraries\n",
    "import pandas as pd\n",
    "from pandas import DataFrame, read_csv\n",
    "\n",
    "# Number manipulation\n",
    "import scipy.sparse\n",
    "from scipy.ndimage.filters import generic_filter\n",
    "import patsy\n",
    "import numpy as np\n",
    "\n",
    "# Plotting libaries\n",
    "import matplotlib.pyplot as plt\n",
    "import seaborn as sns\n",
    "plt.style.use('ggplot')\n",
    "%matplotlib inline\n",
    "\n",
    "\n",
    "# Data type libaries\n",
    "from datetime import datetime as dt\n",
    "\n",
    "# File manipulation\n",
    "import pickle\n",
    "import pandas.io.sql as pd_sql\n",
    "from sqlalchemy import create_engine\n",
    "import psycopg2 as pg\n",
    "from flatten_json import flatten\n",
    "\n",
    "# NLP libraries\n",
    "import wikipedia as wiki\n",
    "from nltk import word_tokenize, sent_tokenize,FreqDist, pos_tag\n",
    "from nltk.corpus import stopwords\n",
    "import gensim as gn\n",
    "from gensim import corpora, models, similarities\n",
    "from collections import defaultdict\n",
    "from six import iteritems\n",
    "from sklearn.feature_extraction.stop_words import ENGLISH_STOP_WORDS\n",
    "from spacy.lang.en.stop_words import STOP_WORDS\n",
    "import string\n",
    "import emoji\n",
    "# import enchant\n",
    "from nltk.stem.snowball import SnowballStemmer\n",
    "from nltk.stem import WordNetLemmatizer\n",
    "\n",
    "\n",
    "# Scraping libraries\n",
    "import requests\n",
    "from bs4 import BeautifulSoup\n",
    "from selenium import webdriver\n",
    "from selenium.webdriver.common.keys import Keys\n",
    "import time\n",
    "# from scraping_functions.tumblr_api import get_client\n",
    "# import pytumblr\n",
    "from google_images_download import google_images_download\n",
    "\n",
    "# Stats libaries\n",
    "import statsmodels.api as sm\n",
    "import statsmodels.formula.api as smf\n",
    "from sklearn import datasets, linear_model, metrics\n",
    "from sklearn.cross_validation import cross_val_score, cross_val_predict\n",
    "from sklearn.preprocessing import StandardScaler, PolynomialFeatures\n",
    "from sklearn.model_selection import train_test_split, GridSearchCV\n",
    "from sklearn.linear_model import Ridge, Lasso, RidgeCV, LinearRegression\n",
    "from sklearn.naive_bayes import GaussianNB\n",
    "from sklearn.pipeline import make_pipeline\n",
    "from sklearn.metrics import mean_squared_error, mean_absolute_error\n",
    "from sklearn import svm, datasets\n",
    "from sklearn.feature_extraction.text import CountVectorizer, TfidfVectorizer\n",
    "from sklearn.decomposition import PCA, NMF, TruncatedSVD, LatentDirichletAllocation\n",
    "from sklearn.neighbors import KNeighborsClassifier\n",
    "\n",
    "# Data Storage\n",
    "from boto.s3.connection import S3Connection\n",
    "from boto.s3.key import Key\n",
    "\n",
    "# Other libaries\n",
    "import geopy"
   ]
  },
  {
   "cell_type": "code",
   "execution_count": null,
   "metadata": {},
   "outputs": [],
   "source": []
  },
  {
   "cell_type": "markdown",
   "metadata": {},
   "source": [
    "# Define a function to scrape image links"
   ]
  },
  {
   "cell_type": "code",
   "execution_count": 16,
   "metadata": {},
   "outputs": [],
   "source": []
  },
  {
   "cell_type": "markdown",
   "metadata": {},
   "source": [
    "# Define a function to download images from Google using search term"
   ]
  },
  {
   "cell_type": "markdown",
   "metadata": {},
   "source": [
    "Want to pass in the list of hashtags we obtained from Project 4 as the search terms for scraping Google images. We can also search by general search criteria"
   ]
  },
  {
   "cell_type": "code",
   "execution_count": 44,
   "metadata": {},
   "outputs": [],
   "source": [
    "def download_google_images(list_of_search_terms, num_images_per_search, output_directory): \n",
    "    \"\"\"\n",
    "    This method takes a list of search terms and downloads the specified number of images that result from a \n",
    "    Google search of that term. \n",
    "    :param \n",
    "    :return: A dictionary of image filenames and urls \n",
    "    \"\"\"\n",
    "    response = google_images_download.googleimagesdownload()\n",
    "    list_of_paths_dicts = []\n",
    "    for search_term in list_of_search_terms:\n",
    "        arguments = {\"keywords\": search_term, \"limit\": num_images_per_search, \"print_urls\": True, \"chromedriver\": \"chromedriver\", \"output_directory\": output_directory, \"--related_images\": None}\n",
    "        paths_dict = response.download(arguments)\n",
    "        list_of_paths_dicts.append(paths_dict)\n",
    "        print(paths_dict)\n",
    "    return(list_of_paths_dicts)"
   ]
  },
  {
   "cell_type": "code",
   "execution_count": 45,
   "metadata": {},
   "outputs": [
    {
     "name": "stdout",
     "output_type": "stream",
     "text": [
      "\n",
      "Item no.: 1 --> Item name = anorexia\n",
      "Evaluating...\n",
      "Starting Download...\n",
      "Image URL: https://i.ytimg.com/vi/5aEATKztSgs/maxresdefault.jpg\n",
      "Completed Image ====> 1. maxresdefault.jpg\n",
      "Image URL: https://images.medicaldaily.com/sites/medicaldaily.com/files/styles/headline/public/2017/03/30/anorexia.png\n",
      "Completed Image ====> 2. anorexia.png\n",
      "\n",
      "Errors: 0\n",
      "\n",
      "{'anorexia': ['/home/victoria/projects/at-risk-id-images/notebooks_and_data/test/anorexia/1. maxresdefault.jpg', '/home/victoria/projects/at-risk-id-images/notebooks_and_data/test/anorexia/2. anorexia.png']}\n",
      "\n",
      "Item no.: 1 --> Item name = bulimia\n",
      "Evaluating...\n",
      "Starting Download...\n",
      "Image URL: https://www.healthtopia.net/sites/default/files/bulimia.png\n",
      "Completed Image ====> 1. bulimia.png\n",
      "Image URL: https://www.wikihow.com/images/thumb/e/e4/Diagnose-Bulimia-Nervosa-Step-3.jpg/aid8073692-v4-728px-Diagnose-Bulimia-Nervosa-Step-3.jpg\n",
      "Completed Image ====> 2. aid8073692-v4-728px-diagnose-bulimia-nervosa-step-3.jpg\n",
      "\n",
      "Errors: 0\n",
      "\n",
      "{'bulimia': ['/home/victoria/projects/at-risk-id-images/notebooks_and_data/test/bulimia/1. bulimia.png', '/home/victoria/projects/at-risk-id-images/notebooks_and_data/test/bulimia/2. aid8073692-v4-728px-diagnose-bulimia-nervosa-step-3.jpg']}\n"
     ]
    },
    {
     "data": {
      "text/plain": [
       "[{'anorexia': ['/home/victoria/projects/at-risk-id-images/notebooks_and_data/test/anorexia/1. maxresdefault.jpg',\n",
       "   '/home/victoria/projects/at-risk-id-images/notebooks_and_data/test/anorexia/2. anorexia.png']},\n",
       " {'bulimia': ['/home/victoria/projects/at-risk-id-images/notebooks_and_data/test/bulimia/1. bulimia.png',\n",
       "   '/home/victoria/projects/at-risk-id-images/notebooks_and_data/test/bulimia/2. aid8073692-v4-728px-diagnose-bulimia-nervosa-step-3.jpg']}]"
      ]
     },
     "execution_count": 45,
     "metadata": {},
     "output_type": "execute_result"
    }
   ],
   "source": [
    "download_google_images(['anorexia', 'bulimia'], 2, 'test')"
   ]
  },
  {
   "cell_type": "code",
   "execution_count": 35,
   "metadata": {},
   "outputs": [
    {
     "data": {
      "text/plain": [
       "dict"
      ]
     },
     "execution_count": 35,
     "metadata": {},
     "output_type": "execute_result"
    }
   ],
   "source": [
    "type(paths)"
   ]
  },
  {
   "cell_type": "markdown",
   "metadata": {},
   "source": [
    "# Prepare S3 buckets"
   ]
  },
  {
   "cell_type": "code",
   "execution_count": null,
   "metadata": {},
   "outputs": [],
   "source": [
    "def create_s3_bucket(bucket_name):\n",
    "    '''\n",
    "    Create an S3 bucket from the bucket name.\n",
    "    param: bucket name\n",
    "    '''\n",
    "    conn = S3Connection(os.environ['AWS_ACCESS_KEY'], os.environ['Ahttps://spring-chi18-metis.slack.com/messagesWS_SECRET_KEY'])\n",
    "    bucket = conn.create_bucket(bucket_name)\n",
    "    return bucket"
   ]
  },
  {
   "cell_type": "code",
   "execution_count": null,
   "metadata": {},
   "outputs": [],
   "source": [
    "def get_s3_bucket(bucket_name):\n",
    "    '''\n",
    "    Get an S3 bucket from the bucket name.\n",
    "    param: bucket name\n",
    "    '''\n",
    "    conn = S3Connection(os.environ['AWS_ACCESS_KEY'], os.environ['AWS_SECRET_KEY'])\n",
    "    bucket = conn.get_bucket(bucket_name)\n",
    "    return bucket"
   ]
  },
  {
   "cell_type": "markdown",
   "metadata": {},
   "source": [
    "# Define a function to upload image files to S3 bucket"
   ]
  },
  {
   "cell_type": "code",
   "execution_count": null,
   "metadata": {},
   "outputs": [],
   "source": []
  },
  {
   "cell_type": "code",
   "execution_count": null,
   "metadata": {},
   "outputs": [],
   "source": [
    "def add_object_to_bucket(bucket, key_name, object_to_upload):\n",
    "    '''\n",
    "    Add an object to an S3 bucket.\n",
    "    param: bucket: the s3 bucket object\n",
    "    param: key_name: a string that represents the key name that will be stored\n",
    "    param: object: the python object that you want to assign to that key\n",
    "    '''\n",
    "    pickle.dump(object_to_upload, open(\"/Users/zachariahmiller/temp.p\", \"wb\"))\n",
    "    k = Key(bucket)\n",
    "    k.key = key_name\n",
    "    k.set_contents_from_filename(\"downloads/{}\".format())\n",
    "    return None"
   ]
  },
  {
   "cell_type": "markdown",
   "metadata": {},
   "source": [
    "# Define a function to obtain images from S3 bucket"
   ]
  },
  {
   "cell_type": "code",
   "execution_count": 38,
   "metadata": {},
   "outputs": [],
   "source": [
    "def get_object_from_bucket(bucket, key_name):\n",
    "    '''\n",
    "    Add an object to an S3 bucket.\n",
    "    param: bucket: the s3 bucket object\n",
    "    param: key_name: a string that represents the key name that will be stored\n",
    "\n",
    "    returns: object from s3 bucket\n",
    "    '''\n",
    "    k = Key(bucket)\n",
    "    k.key = key_name\n",
    "    k.get_contents_to_filename(\"/Users/zachariahmiller/temp.p\")\n",
    "    new_object = pickle.load(open(\"/Users/zachariahmiller/temp.p\", \"rb\"))\n",
    "    return new_object"
   ]
  },
  {
   "cell_type": "markdown",
   "metadata": {},
   "source": [
    "# Define a function to view and label images in notebook"
   ]
  },
  {
   "cell_type": "code",
   "execution_count": null,
   "metadata": {},
   "outputs": [],
   "source": [
    "def label_images()\n",
    "\n",
    "\n",
    "listOfImageNames = ['/path/to/images/1.png',\n",
    "                    '/path/to/images/2.png']\n",
    "\n",
    "for imageName in listOfImageNames:\n",
    "    display(Image(filename=imageName))"
   ]
  },
  {
   "cell_type": "code",
   "execution_count": null,
   "metadata": {},
   "outputs": [],
   "source": []
  },
  {
   "cell_type": "code",
   "execution_count": null,
   "metadata": {},
   "outputs": [],
   "source": []
  },
  {
   "cell_type": "code",
   "execution_count": null,
   "metadata": {},
   "outputs": [],
   "source": []
  },
  {
   "cell_type": "code",
   "execution_count": null,
   "metadata": {},
   "outputs": [],
   "source": []
  },
  {
   "cell_type": "code",
   "execution_count": null,
   "metadata": {},
   "outputs": [],
   "source": []
  },
  {
   "cell_type": "markdown",
   "metadata": {},
   "source": [
    "# Summary"
   ]
  },
  {
   "cell_type": "markdown",
   "metadata": {},
   "source": [
    "### What I did:\n",
    "1. Defined a function to "
   ]
  }
 ],
 "metadata": {
  "kernelspec": {
   "display_name": "Python 3",
   "language": "python",
   "name": "python3"
  },
  "language_info": {
   "codemirror_mode": {
    "name": "ipython",
    "version": 3
   },
   "file_extension": ".py",
   "mimetype": "text/x-python",
   "name": "python",
   "nbconvert_exporter": "python",
   "pygments_lexer": "ipython3",
   "version": "3.6.5"
  }
 },
 "nbformat": 4,
 "nbformat_minor": 2
}
