{
 "cells": [
  {
   "cell_type": "markdown",
   "metadata": {},
   "source": []
  },
  {
   "cell_type": "code",
   "execution_count": null,
   "metadata": {},
   "outputs": [],
   "source": []
  },
  {
   "cell_type": "markdown",
   "metadata": {},
   "source": [
    "# Import Libraries"
   ]
  },
  {
   "cell_type": "code",
   "execution_count": 5,
   "metadata": {
    "scrolled": true
   },
   "outputs": [
    {
     "name": "stderr",
     "output_type": "stream",
     "text": [
      "/home/victoria/anaconda3/envs/ds/lib/python3.6/site-packages/sklearn/cross_validation.py:41: DeprecationWarning: This module was deprecated in version 0.18 in favor of the model_selection module into which all the refactored classes and functions are moved. Also note that the interface of the new CV iterators are different from that of this module. This module will be removed in 0.20.\n",
      "  \"This module will be removed in 0.20.\", DeprecationWarning)\n"
     ]
    }
   ],
   "source": [
    "# General system libraries\n",
    "import os\n",
    "import sys\n",
    "from IPython.display import Image, Markdown\n",
    "import logging\n",
    "logging.basicConfig(format='%(asctime)s : %(levelname)s : %(message)s', level=logging.INFO)\n",
    "\n",
    "# Dataframe libraries\n",
    "import pandas as pd\n",
    "from pandas import DataFrame, read_csv\n",
    "\n",
    "# Number manipulation\n",
    "import scipy.sparse\n",
    "from scipy.ndimage.filters import generic_filter\n",
    "import patsy\n",
    "import numpy as np\n",
    "\n",
    "# Plotting libaries\n",
    "import matplotlib.pyplot as plt\n",
    "import seaborn as sns\n",
    "plt.style.use('ggplot')\n",
    "%matplotlib inline\n",
    "\n",
    "\n",
    "# Data type libaries\n",
    "from datetime import datetime as dt\n",
    "\n",
    "# File manipulation\n",
    "import pickle\n",
    "import pandas.io.sql as pd_sql\n",
    "from sqlalchemy import create_engine\n",
    "import psycopg2 as pg\n",
    "from flatten_json import flatten\n",
    "\n",
    "# NLP libraries\n",
    "import wikipedia as wiki\n",
    "from nltk import word_tokenize, sent_tokenize,FreqDist, pos_tag\n",
    "from nltk.corpus import stopwords\n",
    "import gensim as gn\n",
    "from gensim import corpora, models, similarities\n",
    "from collections import defaultdict\n",
    "from six import iteritems\n",
    "from sklearn.feature_extraction.stop_words import ENGLISH_STOP_WORDS\n",
    "from spacy.lang.en.stop_words import STOP_WORDS\n",
    "import string\n",
    "import emoji\n",
    "# import enchant\n",
    "from nltk.stem.snowball import SnowballStemmer\n",
    "from nltk.stem import WordNetLemmatizer\n",
    "\n",
    "\n",
    "# Scraping libraries\n",
    "import requests\n",
    "from bs4 import BeautifulSoup\n",
    "from selenium import webdriver\n",
    "from selenium.webdriver.common.keys import Keys\n",
    "import time\n",
    "# from scraping_functions.tumblr_api import get_client\n",
    "# import pytumblr\n",
    "\n",
    "# Stats libaries\n",
    "import statsmodels.api as sm\n",
    "import statsmodels.formula.api as smf\n",
    "from sklearn import datasets, linear_model, metrics\n",
    "from sklearn.cross_validation import cross_val_score, cross_val_predict\n",
    "from sklearn.preprocessing import StandardScaler, PolynomialFeatures\n",
    "from sklearn.model_selection import train_test_split, GridSearchCV\n",
    "from sklearn.linear_model import Ridge, Lasso, RidgeCV, LinearRegression\n",
    "from sklearn.naive_bayes import GaussianNB\n",
    "from sklearn.pipeline import make_pipeline\n",
    "from sklearn.metrics import mean_squared_error, mean_absolute_error\n",
    "from sklearn import svm, datasets\n",
    "from sklearn.feature_extraction.text import CountVectorizer, TfidfVectorizer\n",
    "from sklearn.decomposition import PCA, NMF, TruncatedSVD, LatentDirichletAllocation\n",
    "from sklearn.neighbors import KNeighborsClassifier\n",
    "\n",
    "\n",
    "\n",
    "# Other libaries\n",
    "import geopy"
   ]
  },
  {
   "cell_type": "code",
   "execution_count": null,
   "metadata": {},
   "outputs": [],
   "source": []
  },
  {
   "cell_type": "markdown",
   "metadata": {},
   "source": [
    "# Define a function to scrape image links"
   ]
  },
  {
   "cell_type": "markdown",
   "metadata": {},
   "source": [
    "https://www.google.com/search?q=anorexia+tumblr&tbm=isch&tbs=rimg:CWy7VL5zFCUNIjhkPCLK30cjwXRYzgv0FUrGunNW-HnJB3Utg92w3oV2A6uVM4n-0hfVMHd3GhdVEMZ0dRvwZcFMbSoSCWQ8IsrfRyPBEYtOJ2jf6thaKhIJdFjOC_1QVSsYRxxChqAFgdowqEgm6c1b4eckHdRHtwPKleVI7OyoSCS2D3bDehXYDEc8eJ-GalRP2KhIJq5Uzif7SF9URDOQan3U1lr8qEgkwd3caF1UQxhE-jNTB3CEZXCoSCXR1G_1BlwUxtEYY7H1NhkN3c&tbo=u&sa=X&ved=2ahUKEwjewtGix8LbAhXj3YMKHWnzB-0Q9C96BAgBEBs&biw=989&bih=781&dpr=1.6"
   ]
  },
  {
   "cell_type": "markdown",
   "metadata": {},
   "source": [
    "Q98I0e\n",
    "rg_ic rg_i"
   ]
  },
  {
   "cell_type": "code",
   "execution_count": 14,
   "metadata": {},
   "outputs": [],
   "source": [
    "def scrape_image_links(starting_link):\n",
    "    os.environ['webdriver.chrome.driver'] = 'chromedriver'\n",
    "    driver = webdriver.Chrome()\n",
    "    driver.get(starting_link)\n",
    "    \n",
    "#     for item in range(limit):\n",
    "    list_of_srcs = []\n",
    "    list_of_elements = driver.find_elements_by_class_name('Q98I0e') # returns a list of all web elements with that class name\n",
    "    for element in list_of_elements:\n",
    "        src = element.get_attribute(\"src\")\n",
    "        list_of_srcs.append(src)\n",
    "    return list_of_srcs"
   ]
  },
  {
   "cell_type": "code",
   "execution_count": 16,
   "metadata": {},
   "outputs": [],
   "source": [
    "def scrape_image_links(starting_link):\n",
    "    os.environ['webdriver.chrome.driver'] = 'chromedriver'\n",
    "    driver = webdriver.Chrome()\n",
    "    driver.get(starting_link)\n",
    "    \n",
    "#     for item in range(limit):\n",
    "    list_of_srcs = []\n",
    "    list_of_elements = driver.find_elements_by_css_selector('.rg_ic.rg_i') # returns a list of all web elements with that class name\n",
    "    for element in list_of_elements:\n",
    "        src = element.get_attribute(\"src\")\n",
    "        list_of_srcs.append(src)\n",
    "    return list_of_srcs"
   ]
  },
  {
   "cell_type": "code",
   "execution_count": 18,
   "metadata": {},
   "outputs": [],
   "source": [
    "list_of_srcs = scrape_image_links('https://www.google.com/search?q=anorexia+tumblr&tbm=isch&tbs=rimg:CWy7VL5zFCUNIjhkPCLK30cjwXRYzgv0FUrGunNW-HnJB3Utg92w3oV2A6uVM4n-0hfVMHd3GhdVEMZ0dRvwZcFMbSoSCWQ8IsrfRyPBEYtOJ2jf6thaKhIJdFjOC_1QVSsYRxxChqAFgdowqEgm6c1b4eckHdRHtwPKleVI7OyoSCS2D3bDehXYDEc8eJ-GalRP2KhIJq5Uzif7SF9URDOQan3U1lr8qEgkwd3caF1UQxhE-jNTB3CEZXCoSCXR1G_1BlwUxtEYY7H1NhkN3c&tbo=u&sa=X&ved=2ahUKEwjewtGix8LbAhXj3YMKHWnzB-0Q9C96BAgBEBs&biw=989&bih=781&dpr=1.6')"
   ]
  },
  {
   "cell_type": "code",
   "execution_count": 19,
   "metadata": {},
   "outputs": [
    {
     "data": {
      "text/plain": [
       "100"
      ]
     },
     "execution_count": 19,
     "metadata": {},
     "output_type": "execute_result"
    }
   ],
   "source": [
    "len(list_of_srcs)"
   ]
  },
  {
   "cell_type": "code",
   "execution_count": 20,
   "metadata": {},
   "outputs": [
    {
     "data": {
      "text/plain": [
       "'data:image/jpeg;base64,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'"
      ]
     },
     "execution_count": 20,
     "metadata": {},
     "output_type": "execute_result"
    }
   ],
   "source": [
    "list_of_srcs[2]"
   ]
  },
  {
   "cell_type": "markdown",
   "metadata": {},
   "source": [
    "# Define a function to download the image from the src link"
   ]
  },
  {
   "cell_type": "code",
   "execution_count": 21,
   "metadata": {},
   "outputs": [
    {
     "data": {
      "text/plain": [
       "('local-filename.jpg', <http.client.HTTPMessage at 0x7ff56fdada20>)"
      ]
     },
     "execution_count": 21,
     "metadata": {},
     "output_type": "execute_result"
    }
   ],
   "source": [
    "import urllib.request\n",
    "\n",
    "urllib.request.urlretrieve(\"http://www.digimouth.com/news/media/2011/09/google-logo.jpg\", \"local-filename.jpg\")"
   ]
  },
  {
   "cell_type": "code",
   "execution_count": 23,
   "metadata": {},
   "outputs": [
    {
     "ename": "InvalidSchema",
     "evalue": "No connection adapters were found for 'data:image/jpeg;base64,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'",
     "output_type": "error",
     "traceback": [
      "\u001b[0;31m---------------------------------------------------------------------------\u001b[0m",
      "\u001b[0;31mInvalidSchema\u001b[0m                             Traceback (most recent call last)",
      "\u001b[0;32m<ipython-input-23-e0e80f0e3a36>\u001b[0m in \u001b[0;36m<module>\u001b[0;34m()\u001b[0m\n\u001b[1;32m      1\u001b[0m \u001b[0;32mimport\u001b[0m \u001b[0mrequests\u001b[0m\u001b[0;34m\u001b[0m\u001b[0m\n\u001b[1;32m      2\u001b[0m \u001b[0;34m\u001b[0m\u001b[0m\n\u001b[0;32m----> 3\u001b[0;31m \u001b[0mimg_data\u001b[0m \u001b[0;34m=\u001b[0m \u001b[0mrequests\u001b[0m\u001b[0;34m.\u001b[0m\u001b[0mget\u001b[0m\u001b[0;34m(\u001b[0m\u001b[0;34m'data:image/jpeg;base64,/9j/4AAQSkZJRgABAQAAAQABAAD/2wCEAAkGBxITEhUSExIVFRUXGBgYGBcYFRUVFxcVFRcXFhUVFxUYHSggGBolGxUVITEhJSkrLi4uFx8zODMtNygtLisBCgoKBQUFDgUFDisZExkrKysrKysrKysrKysrKysrKysrKysrKysrKysrKysrKysrKysrKysrKysrKysrKysrK//AABEIAL8BCAMBIgACEQEDEQH/xAAcAAABBQEBAQAAAAAAAAAAAAAFAgMEBgcAAQj/xABDEAABAgMEBgcFBQYGAwAAAAABAAIDESEEBRIxBiJBUWFxMoGRobHB8BMjYnLRQlKys+EHM4KSwvEkNGNzotIUU6P/xAAUAQEAAAAAAAAAAAAAAAAAAAAA/8QAFBEBAAAAAAAAAAAAAAAAAAAAAP/aAAwDAQACEQMRAD8Axe0D3zh/qH8SsV1Q9T+J3igEQf4g/wC6fxq0XYNQHn4oJLGJ1rV60FOAFAkNSgxLAKdhMQUq2WH2UVwGWY2UOyfBFbHcQw4nlxJrhmZAbJ7zkp172H2jocvvAO+U5ophQVK9rOWwfZNoPaTzyGH6qPa7smyEBR2EA/xEn69qsltsTS4z2tl2z+iREs1RwDe5BSn2VwxcM+Wc/BN2eJhM6zBBHGRyKN3lCHtnDeHDvn4EKvoPSV7SXHukkrkHLl60VUy8LAYZzmCThoQS0EydIhAzYbRge13GvI5qx26OAzECCJUrnuVVTsSMSANjckDbnTqV4uXIFMYSQAJk5BS4dgiB8g2bmjEWyxDC0TrKhHimLJHLHBwAMp0NQZiRBR+6r2EETDGhznTdKUy1w6AaQZCWQyQW3Ri/5shNjOdhgNcQ1smucXFxxNdQAtDgABlKcqVJ2OOIludEb9pjyazM3PBEju2KtX57JsUvY9pDvs63tBShe0khplISEsss0X0Hm62EnLAwD+J2Ltog2ppxEO2OZXmM0O0mhE2R3DCeyIB5qXdkSjm7qjkTVLvqFOyxhuaT2Sd5IMyLF2BP4V2FAwWLixSCxeOYgiRIfamnMNVMeEh7UA97VykRGLkGVWOBjtgYTKcU15OJ8lZbnZ7mH8oPbVV27D/jJ/G89zirRYW4WNbuEuxBKaEsBIDgnAUCgE81tE01PxKBBEhmZ61MYolkZmVPYKIB9oZNzp7h4ldEZU+tidisnEG4y7k4WoKffrgyIHHKcj1gf9Qq6ZYuE+6atukNkLsUhWc/+H6qoOEjLcgdiw6ktGqNuzlPbmm8J3LyaW15mMzLnkOWySBtKc8nMkyoOA3JcKA551Wk8h6kidl0djPzwtHEzPYEAdcrQzRPfEnybLxKZjaNSycesIK6n4kUFoEsjnICn1mio0ecKhwPAj1JR411ljgS2IWzrIA04EHyQC05AilrmuGYIPWDNG7FdNni9GPgcC5uB8sTpChBApM7JHLNDBZh7MkkB+KRa4yMgJ4gOwbZ1QE9H5xbREeWtIwxHFr9YTcDLrxS3K6fssjOi2hz3SJMQzIAAk1glIDISCzq7WzJaXBrczMgA4QSBWlTIV3rSv2UQcBhOlLGXHtxAdwCDXLF0+rzCLRYWNkRn3gR/M2SFWIa6MQDrO6kGY4V4Qp96QcMaI3c93ZOY7iomFAktSXNT7gklqCK9qSGevXUn3NSS3aghxxT162LkuM3zXIMdud844O2UQ/8HlWGJeTGOLSZSJE5HYf1VcuX97ybEP8A83KfeLBjiTBIDnZS+8gfu68WmMa9JxIOVJSA5qyscqRCwCKwigc0fzEEeKuFjfNoQT4QqOSXajReQBUKVZ7PjdPYPFBHZBwgDtUtrFzhMpwOogjey1p80h7VKBEyNoAn1plwqgGW2DMnmPCSo9+2fBHcNhkeo/2Wi2mGgekd2B4bElVhrxafoa9qALd9mY5om0HmApzLBD+43sCYuqjBLiOwkInDQLhhTYChyqpll3IJsKHNMWyDJFbDAmmr7hSkgBezUizQqpLQpljZVASsdxWaLJz4TSRIg1BEspEVRm2aKWOMAYsNzyB9qLFdkJbXJV2wKBG8GrJBkelGjVlgw4zobC3CNXXca03lWXQZmBllJpINn1/3Q/T6H7t7PvOhjteEdsMDCGAbJd39kGh2TphFobak75IJZXzwHfJHhl2IKbpVBlaCfvNafLyQjCrJpjD1obt7SOw/qq7JBxCTJOFeSQMOCbKfcmntp6zQR4mz1v8AouSjJeoMTuT947/bifgcvLzrGij/AFHy54jIp7Rts4pHwP72y81YYOjhfExEjWeXZHJxmBNBWIcAtisaRsaeo181dbEyiTarlf7YRCKDr+7LuCnWaDIIHoSPQ4WCA2kiZ9/oJvR65jE948SYK/MR5KffDqgbvNAGayQxLyC0GbnZNqnCS6TB2c9iYviKAPZMyHSO87epAzYHFwc4/acSnMOSXZIUoY41XoGXNA1HamojAQQdoUq2NUC1PkEFUu+Fhxs+7EeO9EGqLChye/i4nrKlsagXmp1iFVGY1S7KJFBZLAJBQb+fMhOwI8goF4PmUA8lTbC6oUMtT1nMigv90VaEVDZTQHR6LRGbwi4WzQUm+4QixS0iYxDuqisCRAlsl9ECttpk/EKzdLuKIXJELjXKYHXOfkg0GzMpDHJHSg1nd0DuIRh+XWgCaWw5sY7c4jtH6KrYVc9IWYoDvhcD3y81TiEHSXhCWQvEDbzwCjk5qU+GVDLZFAy9vPrXJbwuQY1ouPen5D3uaPNaRYBrN5hZxosPeu+UfmQ1plgbrN5oCwhhQrTBaXBsq7eSIWqIGtLtw79iAQo5mScygu11xPdy2Aegq9eUaZdz8FNstvlCNaykhMIF5kMyf1mgfsMMNa6K4yw5c/0HiEGi1JO8ojpAwtaxmwTpvyqUPNQgIjoN5BN4ahPsbqAHcF5AbN4HLzQeXjDoChVsbNvWFZrzs/u57lX4rUFffBqTxM+1ew1NjMo7r+qiMCB5qehGSjhPMQEIb03HXQilRAghlLhmq4hdCFUFv0dcp+kMfVkENuMyCfvl02oKtaTVnPyKN3YJFg4zQCMfewxvJ7pFWGx/vGoL9BOqEZinLmq/dr5wxwR2I6oHAd6Bu1sxQ4rd7XdypBV7hGvMlUiM2TiNxI7KIEFeOCVJeEIGXqNFBn6yy81Jeo8TMIGnbF6vHhcgxnRt0ojjwaO2Ixaldw1281luj3Sdzh/msHmtWusa45oDDoIIIIBBzBQq23PKsMy4HyKNyTdoFEFbJc0EOBHh2otcFsgQyTFMiRIUJkNtAM168JiJDBzA7EEW/wC1tivm3oig+qGwyZSRn2Ddw7EowGylIVQNtNByTljb7zsSHCQluT13DXB4juQHbys/uTyPcFTntoFoVsh+5f8AK7wKoMZAKjChPNQWKbGOqeZUYNQIanWFNyXBAQsykvZRR7Ci74IwEoAUQ1UiyQ5lR3VMxIjeDNGrpg1QE7EyQTtqE2qW2BIJBhUKCoyHtWk7Ce8IxZDrhB7zhkOPAzRO6omIAoLvcvRdzR32mseACD3I0YDzRKM6TonPyQSILqA8VVr1ZKNEHxE9pn5q0NGqEE0lgyiB33mg9Yp9EAkpLglJJQMxEw8V9cE+9RnhA08rlzj+q5Bj2jWbvmg/nMWp3WdcD1tWXaLir/mg98Zi1K6xrhAeakWgUT8MJu0ZIIDwmXBS3tTDmoGgEqS9klAIIcXbzUu6W645qNG6R9bEQuJvvGjigtNtZKDEPwn8Kzi0Gh6/ArS7z/y0U/A78JWX214DCgExTUjrSXBPQxmU3EQNLl5NdNBOsRkrC2F7SE9u0tIHMhVizuqjditMkFV0ahvYMD2lsiRLdVX254QohL4QLpy2qwXY0UQGRDokug0UiGaBSIsPVQUu/LuJ1gELuJxDnMOw9xy8Cr46AHUVZvy6zZ4jYwGo44XcJ5Ht8UFs0eiZhErbE13j5fAINo0dY8p9qlXtHwxXA7cJ6pBAbB1VC0hhzhQ37jLqP6hSYL5tCVaoeKzvEshMfw18kFRKS5LcU09A1EKjvNZJ55TD8x63IGYneuXRRM0zNOtcgyXRQVf80D85v6LT7rGuPWxZfonm/wCaD+a1ajdXTCCxtCRHyS2JuOKIIsRNuCccmpoEyXL2S8KCHH6R6vJE7ldKI0+tqFu6R5oldnTHMILhfA/w8b/bd+ErILyiTk0eqLYr1/y0Q/6b/wAJWMBuKIeCBREgmS1SHt2JfsUA17ZJCIRYFFDMNB7DKJWVygQ2KfZ2yQS4bqo/dhQKEEdu8IDsHMIlGGqhtkqVPjPkEECDEqjFou5logOhu+0JT3HYUCiUrNGrltexAG0ahuaSH0c2bHfM0+Bz5FRdKYobGaZ9Jo/4mX0VovSAGv8Aaj7Up820n/K4/wAqq15tY+0BrhUNkDMipJMqIDV02qcPijlhOIOad3caFVuxGUmjlJHruia5nSiCoxQQ4jcSOyibcVOvtko0QfET/NJ3mhzygaeVHfWaec6dfUlHMjPqQNxCuXjyvEGU6JCr/mg/mhaldXTCy7RHN/zQfzQtRuvpBBYYeSTHFEtgSI+SCG9NhOvCaKDwpBXFIimh5FBEYdbmSURu863YhkLPqU+wGvYguekjg2wxfkI7aeayK6xMly1XTLVu+Jwa3uLVk+jtpa+EHA55jcdxQErPZ8RKdfCkkXdHk8gqdaJEoBroSgxYUiiMRpaeCaiCaCJCapkNqj4JFTYLUEiC1FrJRDYIROytyQHLAdqXbIybhmQQ+02mZkEChHJNVJhW3BIoRar1gQxrxWNPFwn2IBaNMbLsL3yrqtPiZINctLTEsriKnCXDmBP9OtVGWN2I5n0EPur9orsAYyCJfE7yklWG24pEU4Zy4ILRYnNwuJFRKR8UUiZiIJbKcRQqu3fHlOYmEbuuJjbLcZ9RzQCtJh7+e9jT5eSCxCjulf71p+Dwc5V97pzqganTNRw+cwnsVFChv1j1oFjb31XJsTBInOXryXiDMdEs3/NB/NatRuzphZXosen80D85i1O7emOf1QWJhSY2S9aV5GNEEV6acnXFNOQNFNWk6pThTVo6JQQ4ZqiN19KuQQ0ZlTbudnzQWf8AaE/FdVoI/wDUT2BfM8C0vZVj3N5EhfS2mdboi8YcjyMgVidu0WY6GHwjhdLI9E/QoAcDSC0syiE8w095CnQ9M7UNrDzZ9JIHarK+GcL2lp47eR2psAILONObQaOZCPU4f1JbdNHbYI6nkeIKq72DY6fURv8Ap3rzB1+tyC2M0yH2oRnweP8AqjejulUGM/2TmuY4gkOJaWANBc8vmRIBoLp7gVmxCl3ZbvYmIcAcXwnwxM9H2jcJdxOEuHWg0O8NL4MJs2lsVxybDdMcC5xFBlSU+CHD9o8bNkCGJCdXF2R4S4BUJTWu1DtOA9U3AlBabRpzb309oxky0arBSeypO9BrRfFpiAF0V5Lg7IkCYO4U3ZcFEixJzl8LgN/ohR4kaRIFdbE3rzHegdd0pkzxDnIjZ2hSrDExS5V4IaGTNZzn0RU12c1etGdFYjwC5oht+ITceOHZ1oHblgOpL6DvVluVrmRokN33WPGeTsQOfJXbRW4IEORwYnfedU9Q2Ibp28Q7wspwn3sJ8MuEpDAS5s+syQdAfIo/ckXW9baKuBErsjEOCCZpaP3fJ472/VVeK7LsVl0xf+6/jPbhVXeeKBgmh5lR2ymTwJTk+lzKYxZcvogUc58OK8SC+fH9FyDMdFzV/wA0D89i1W7+kOayjRjN3zQfz4a1awHWCA+xdGySYbl5EdRBHekPySnpDygaco9qdQDin3FRY5ry80EYmpU262zMuKgE5qdcz5V4oLNpiZXVEHwgd4WdubJgV300i4breDniaO1wKokaLqjkgdh3ayK3C9ocOI7wdird8aDvE3QK/Ac/4Tt61cLmdNWL2E0Hz9HgOY4te0tcMwRIjqTa3S9tH4FpbhismdjhR7fld5GizDSnQ+NZDjHvIJNHgVHB42c8vBBWly5cg9U6zNnhnlrNnsrWigtMqpxsbVLZDnuQKdFJDRkWgjqnv7VIu27YkY4YbabXHIeu1P3VdJiazphvef0V5uyE1jQ1oAHBA7o9o7CgSMsT9riK9W5XS7IUyEDsTplWq6ISC03VDkFXtPrudFi2ZwIGDHXcZsI8CrRYW0QzSbNnI+SADjAOSmQSwjEKES2J6BZWPIBnXaFLtF1MhMc6JEk0dp3DmgD6VWkOewDJrB2kmfgFX4jku0x8TiePYJBR3uQNOfIHgT1+ppqdRWa8e7x55f2TZdXfIIEtNTPeuTRNTX1JcgzrRo1dzg/nw1qlidrDmso0dOs7nC/OhrU7GdYILBDcvHuTUNyU80QNOKSSvHlILkCSokV1SVJJUKNt5oGHmifu99RzTLjRJs769aA3+0a1j/wcO8tPZQd8lQzaKBHNPY+KAW/da09jmnyVPZGQWm4rRVXqySIWYXRFkVolyx5gIJNogptzA5pa4AgiRBqCCiEVlFDe2SDItOdEv/GcYsIThHMfcJ/p8FTlvV8BrmOa4TBBBHBYfednEOK9gyBpy2IIqKXbYQdZ3UFCscLE6SPQ/BARs7pItZXoGx6JWJ00Fou2pV0uhuSp9zNyV2upuSCyWegQLSWLrtHDxP6I1CdRU/S21H20hsaPMoCdgfqg7sk7ps/3EM7C7+kyQq6rTNg5p7Si0E2aG34+7C6SCqOdU9Sae7ekudU9XgFHtMUhpKD1zsuZTWKpHLaux06yovtKzO36IHHP+tOv6LlHfE8u+YXIP//Z'\u001b[0m\u001b[0;34m)\u001b[0m\u001b[0;34m.\u001b[0m\u001b[0mcontent\u001b[0m\u001b[0;34m\u001b[0m\u001b[0m\n\u001b[0m\u001b[1;32m      4\u001b[0m \u001b[0;32mwith\u001b[0m \u001b[0mopen\u001b[0m\u001b[0;34m(\u001b[0m\u001b[0;34m'image_name.jpg'\u001b[0m\u001b[0;34m,\u001b[0m \u001b[0;34m'wb'\u001b[0m\u001b[0;34m)\u001b[0m \u001b[0;32mas\u001b[0m \u001b[0mhandler\u001b[0m\u001b[0;34m:\u001b[0m\u001b[0;34m\u001b[0m\u001b[0m\n\u001b[1;32m      5\u001b[0m     \u001b[0mhandler\u001b[0m\u001b[0;34m.\u001b[0m\u001b[0mwrite\u001b[0m\u001b[0;34m(\u001b[0m\u001b[0mimg_data\u001b[0m\u001b[0;34m)\u001b[0m\u001b[0;34m\u001b[0m\u001b[0m\n",
      "\u001b[0;32m~/anaconda3/envs/ds/lib/python3.6/site-packages/requests/api.py\u001b[0m in \u001b[0;36mget\u001b[0;34m(url, params, **kwargs)\u001b[0m\n\u001b[1;32m     70\u001b[0m \u001b[0;34m\u001b[0m\u001b[0m\n\u001b[1;32m     71\u001b[0m     \u001b[0mkwargs\u001b[0m\u001b[0;34m.\u001b[0m\u001b[0msetdefault\u001b[0m\u001b[0;34m(\u001b[0m\u001b[0;34m'allow_redirects'\u001b[0m\u001b[0;34m,\u001b[0m \u001b[0;32mTrue\u001b[0m\u001b[0;34m)\u001b[0m\u001b[0;34m\u001b[0m\u001b[0m\n\u001b[0;32m---> 72\u001b[0;31m     \u001b[0;32mreturn\u001b[0m \u001b[0mrequest\u001b[0m\u001b[0;34m(\u001b[0m\u001b[0;34m'get'\u001b[0m\u001b[0;34m,\u001b[0m \u001b[0murl\u001b[0m\u001b[0;34m,\u001b[0m \u001b[0mparams\u001b[0m\u001b[0;34m=\u001b[0m\u001b[0mparams\u001b[0m\u001b[0;34m,\u001b[0m \u001b[0;34m**\u001b[0m\u001b[0mkwargs\u001b[0m\u001b[0;34m)\u001b[0m\u001b[0;34m\u001b[0m\u001b[0m\n\u001b[0m\u001b[1;32m     73\u001b[0m \u001b[0;34m\u001b[0m\u001b[0m\n\u001b[1;32m     74\u001b[0m \u001b[0;34m\u001b[0m\u001b[0m\n",
      "\u001b[0;32m~/anaconda3/envs/ds/lib/python3.6/site-packages/requests/api.py\u001b[0m in \u001b[0;36mrequest\u001b[0;34m(method, url, **kwargs)\u001b[0m\n\u001b[1;32m     56\u001b[0m     \u001b[0;31m# cases, and look like a memory leak in others.\u001b[0m\u001b[0;34m\u001b[0m\u001b[0;34m\u001b[0m\u001b[0m\n\u001b[1;32m     57\u001b[0m     \u001b[0;32mwith\u001b[0m \u001b[0msessions\u001b[0m\u001b[0;34m.\u001b[0m\u001b[0mSession\u001b[0m\u001b[0;34m(\u001b[0m\u001b[0;34m)\u001b[0m \u001b[0;32mas\u001b[0m \u001b[0msession\u001b[0m\u001b[0;34m:\u001b[0m\u001b[0;34m\u001b[0m\u001b[0m\n\u001b[0;32m---> 58\u001b[0;31m         \u001b[0;32mreturn\u001b[0m \u001b[0msession\u001b[0m\u001b[0;34m.\u001b[0m\u001b[0mrequest\u001b[0m\u001b[0;34m(\u001b[0m\u001b[0mmethod\u001b[0m\u001b[0;34m=\u001b[0m\u001b[0mmethod\u001b[0m\u001b[0;34m,\u001b[0m \u001b[0murl\u001b[0m\u001b[0;34m=\u001b[0m\u001b[0murl\u001b[0m\u001b[0;34m,\u001b[0m \u001b[0;34m**\u001b[0m\u001b[0mkwargs\u001b[0m\u001b[0;34m)\u001b[0m\u001b[0;34m\u001b[0m\u001b[0m\n\u001b[0m\u001b[1;32m     59\u001b[0m \u001b[0;34m\u001b[0m\u001b[0m\n\u001b[1;32m     60\u001b[0m \u001b[0;34m\u001b[0m\u001b[0m\n",
      "\u001b[0;32m~/anaconda3/envs/ds/lib/python3.6/site-packages/requests/sessions.py\u001b[0m in \u001b[0;36mrequest\u001b[0;34m(self, method, url, params, data, headers, cookies, files, auth, timeout, allow_redirects, proxies, hooks, stream, verify, cert, json)\u001b[0m\n\u001b[1;32m    506\u001b[0m         }\n\u001b[1;32m    507\u001b[0m         \u001b[0msend_kwargs\u001b[0m\u001b[0;34m.\u001b[0m\u001b[0mupdate\u001b[0m\u001b[0;34m(\u001b[0m\u001b[0msettings\u001b[0m\u001b[0;34m)\u001b[0m\u001b[0;34m\u001b[0m\u001b[0m\n\u001b[0;32m--> 508\u001b[0;31m         \u001b[0mresp\u001b[0m \u001b[0;34m=\u001b[0m \u001b[0mself\u001b[0m\u001b[0;34m.\u001b[0m\u001b[0msend\u001b[0m\u001b[0;34m(\u001b[0m\u001b[0mprep\u001b[0m\u001b[0;34m,\u001b[0m \u001b[0;34m**\u001b[0m\u001b[0msend_kwargs\u001b[0m\u001b[0;34m)\u001b[0m\u001b[0;34m\u001b[0m\u001b[0m\n\u001b[0m\u001b[1;32m    509\u001b[0m \u001b[0;34m\u001b[0m\u001b[0m\n\u001b[1;32m    510\u001b[0m         \u001b[0;32mreturn\u001b[0m \u001b[0mresp\u001b[0m\u001b[0;34m\u001b[0m\u001b[0m\n",
      "\u001b[0;32m~/anaconda3/envs/ds/lib/python3.6/site-packages/requests/sessions.py\u001b[0m in \u001b[0;36msend\u001b[0;34m(self, request, **kwargs)\u001b[0m\n\u001b[1;32m    610\u001b[0m \u001b[0;34m\u001b[0m\u001b[0m\n\u001b[1;32m    611\u001b[0m         \u001b[0;31m# Get the appropriate adapter to use\u001b[0m\u001b[0;34m\u001b[0m\u001b[0;34m\u001b[0m\u001b[0m\n\u001b[0;32m--> 612\u001b[0;31m         \u001b[0madapter\u001b[0m \u001b[0;34m=\u001b[0m \u001b[0mself\u001b[0m\u001b[0;34m.\u001b[0m\u001b[0mget_adapter\u001b[0m\u001b[0;34m(\u001b[0m\u001b[0murl\u001b[0m\u001b[0;34m=\u001b[0m\u001b[0mrequest\u001b[0m\u001b[0;34m.\u001b[0m\u001b[0murl\u001b[0m\u001b[0;34m)\u001b[0m\u001b[0;34m\u001b[0m\u001b[0m\n\u001b[0m\u001b[1;32m    613\u001b[0m \u001b[0;34m\u001b[0m\u001b[0m\n\u001b[1;32m    614\u001b[0m         \u001b[0;31m# Start time (approximately) of the request\u001b[0m\u001b[0;34m\u001b[0m\u001b[0;34m\u001b[0m\u001b[0m\n",
      "\u001b[0;32m~/anaconda3/envs/ds/lib/python3.6/site-packages/requests/sessions.py\u001b[0m in \u001b[0;36mget_adapter\u001b[0;34m(self, url)\u001b[0m\n\u001b[1;32m    701\u001b[0m \u001b[0;34m\u001b[0m\u001b[0m\n\u001b[1;32m    702\u001b[0m         \u001b[0;31m# Nothing matches :-/\u001b[0m\u001b[0;34m\u001b[0m\u001b[0;34m\u001b[0m\u001b[0m\n\u001b[0;32m--> 703\u001b[0;31m         \u001b[0;32mraise\u001b[0m \u001b[0mInvalidSchema\u001b[0m\u001b[0;34m(\u001b[0m\u001b[0;34m\"No connection adapters were found for '%s'\"\u001b[0m \u001b[0;34m%\u001b[0m \u001b[0murl\u001b[0m\u001b[0;34m)\u001b[0m\u001b[0;34m\u001b[0m\u001b[0m\n\u001b[0m\u001b[1;32m    704\u001b[0m \u001b[0;34m\u001b[0m\u001b[0m\n\u001b[1;32m    705\u001b[0m     \u001b[0;32mdef\u001b[0m \u001b[0mclose\u001b[0m\u001b[0;34m(\u001b[0m\u001b[0mself\u001b[0m\u001b[0;34m)\u001b[0m\u001b[0;34m:\u001b[0m\u001b[0;34m\u001b[0m\u001b[0m\n",
      "\u001b[0;31mInvalidSchema\u001b[0m: No connection adapters were found for 'data:image/jpeg;base64,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'"
     ]
    }
   ],
   "source": [
    "import requests\n",
    "\n",
    "img_data = requests.get('data:image/jpeg;base64,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').content\n",
    "with open('image_name.jpg', 'wb') as handler:\n",
    "    handler.write(img_data)"
   ]
  },
  {
   "cell_type": "code",
   "execution_count": 24,
   "metadata": {},
   "outputs": [
    {
     "ename": "AttributeError",
     "evalue": "module 'urllib' has no attribute 'urlretrieve'",
     "output_type": "error",
     "traceback": [
      "\u001b[0;31m---------------------------------------------------------------------------\u001b[0m",
      "\u001b[0;31mAttributeError\u001b[0m                            Traceback (most recent call last)",
      "\u001b[0;32m<ipython-input-24-313dfc171887>\u001b[0m in \u001b[0;36m<module>\u001b[0;34m()\u001b[0m\n\u001b[0;32m----> 1\u001b[0;31m \u001b[0murllib\u001b[0m\u001b[0;34m.\u001b[0m\u001b[0murlretrieve\u001b[0m\u001b[0;34m(\u001b[0m\u001b[0mlist_of_srcs\u001b[0m\u001b[0;34m[\u001b[0m\u001b[0;36m2\u001b[0m\u001b[0;34m]\u001b[0m\u001b[0;34m,\u001b[0m \u001b[0mword\u001b[0m\u001b[0;34m+\u001b[0m\u001b[0;34m\".jpg\"\u001b[0m\u001b[0;34m)\u001b[0m\u001b[0;34m\u001b[0m\u001b[0m\n\u001b[0m\u001b[1;32m      2\u001b[0m \u001b[0mdriver\u001b[0m\u001b[0;34m.\u001b[0m\u001b[0mclose\u001b[0m\u001b[0;34m(\u001b[0m\u001b[0;34m)\u001b[0m\u001b[0;34m\u001b[0m\u001b[0m\n",
      "\u001b[0;31mAttributeError\u001b[0m: module 'urllib' has no attribute 'urlretrieve'"
     ]
    }
   ],
   "source": [
    "urllib.urlretrieve(list_of_srcs[2], word+\".jpg\")\n",
    "driver.close()"
   ]
  },
  {
   "cell_type": "code",
   "execution_count": 25,
   "metadata": {},
   "outputs": [],
   "source": [
    "from google_images_download import google_images_download"
   ]
  },
  {
   "cell_type": "code",
   "execution_count": 26,
   "metadata": {},
   "outputs": [],
   "source": [
    "response = google_images_download.googleimagesdownload()\n"
   ]
  },
  {
   "cell_type": "code",
   "execution_count": 27,
   "metadata": {},
   "outputs": [
    {
     "name": "stdout",
     "output_type": "stream",
     "text": [
      "\n",
      "Item no.: 1 --> Item name = anorexia tumblr\n",
      "Evaluating...\n",
      "Starting Download...\n",
      "Image URL: https://i.pinimg.com/originals/9c/8d/33/9c8d330fd32cee066ae7ecf9a8d455e2.jpg\n",
      "Completed Image ====> 1. 9c8d330fd32cee066ae7ecf9a8d455e2.jpg\n",
      "Image URL: https://data.whicdn.com/images/112505974/large.jpg\n",
      "Completed Image ====> 2. large.jpg\n",
      "Image URL: https://i.pinimg.com/originals/e8/b8/ac/e8b8acc89fe0afd4b1203acd3baf76d6.jpg\n",
      "Completed Image ====> 3. e8b8acc89fe0afd4b1203acd3baf76d6.jpg\n",
      "Image URL: https://i.pinimg.com/originals/f3/38/84/f33884e8519a34410621381fc38a2335.jpg\n",
      "Completed Image ====> 4. f33884e8519a34410621381fc38a2335.jpg\n",
      "Image URL: http://www.theeighty8.com/wp-content/uploads/2014/03/nike.png-1050x700.png\n",
      "Completed Image ====> 5. nike.png\n",
      "Image URL: https://static.tumblr.com/689830b4239c28c3adf03805a19a4a4d/eqr4osi/LoAnvr5bw/tumblr_static_tumblr_static_b6sg07lxzw8wos00s8o8wwskg_640.jpg\n",
      "Completed Image ====> 6. tumblr_static_tumblr_static_b6sg07lxzw8wos00s8o8wwskg_640.jpg\n",
      "Image URL: https://78.media.tumblr.com/tumblr_lhcgkg0BvK1qfe7og.jpg\n",
      "Completed Image ====> 7. tumblr_lhcgkg0bvk1qfe7og.jpg\n",
      "Image URL: https://warewweat.files.wordpress.com/2014/10/anorexia-1-large-msg-1196064874671.jpg\n",
      "Completed Image ====> 8. anorexia-1-large-msg-1196064874671.jpg\n",
      "Image URL: https://s9.favim.com/orig/130731/anorexia-black-and-white-eat-recovery-Favim.com-816653.jpg\n",
      "URLError on an image...trying next one... Error: <urlopen error [SSL: CERTIFICATE_VERIFY_FAILED] certificate verify failed (_ssl.c:833)>\n",
      "Image URL: https://static.tumblr.com/bd643a321b1e0a3717353c782658c9ec/fz8znpw/GhEohii7k/tumblr_static_tumblr_static_onahm0m216skw4ggc0w48w00_640.jpg\n",
      "Completed Image ====> 9. tumblr_static_tumblr_static_onahm0m216skw4ggc0w48w00_640.jpg\n",
      "Image URL: https://78.media.tumblr.com/tumblr_lhjn7cityu1qfe7og.png\n",
      "Completed Image ====> 10. tumblr_lhjn7cityu1qfe7og.png\n",
      "Image URL: https://static.tumblr.com/c13bbe547e808716c8c8bb769ea88c4a/nn3ee4y/xfgow89e2/tumblr_static_tumblr_static__640.png\n",
      "Completed Image ====> 11. tumblr_static_tumblr_static__640.png\n",
      "Image URL: http://assets.change.org/photos/0/qo/fv/WqQOFVufyvTbTMO-1600x900-noPad.jpg?1515954799\n",
      "Completed Image ====> 12. wqqofvufyvtbtmo-1600x900-nopad.jpg\n",
      "Image URL: https://i.pinimg.com/originals/5d/f8/b6/5df8b6ec416f46d7f2964e767d5bb9ca.jpg\n",
      "Completed Image ====> 13. 5df8b6ec416f46d7f2964e767d5bb9ca.jpg\n",
      "Image URL: http://th00.deviantart.net/fs70/PRE/i/2013/083/4/7/anorexia_nervosa_by_bexa_rose12-d5z4l7e.jpg\n",
      "Completed Image ====> 14. anorexia_nervosa_by_bexa_rose12-d5z4l7e.jpg\n",
      "Image URL: https://78.media.tumblr.com/1ad0549a81e705188da2ebc9331fad56/tumblr_inline_p9ycwubocK1vhd2gz_640.jpg\n",
      "Completed Image ====> 15. tumblr_inline_p9ycwubock1vhd2gz_640.jpg\n",
      "Image URL: https://img00.deviantart.net/46c4/i/2005/082/9/d/anorexia_by_precociousimone.jpg\n",
      "Completed Image ====> 16. anorexia_by_precociousimone.jpg\n",
      "Image URL: https://i.pinimg.com/originals/cc/30/81/cc30810eba8e09b51b68609608dd4bdd.jpg\n",
      "Completed Image ====> 17. cc30810eba8e09b51b68609608dd4bdd.jpg\n",
      "Image URL: https://i.pinimg.com/originals/e3/3b/fd/e33bfdfc4781ed952a2a53038c6df50c.gif\n",
      "Completed Image ====> 18. e33bfdfc4781ed952a2a53038c6df50c.gif\n",
      "Image URL: https://www.dailydot.com/wp-content/uploads/b54/3f/a98db837574cede315b754d259e914a6.jpg\n",
      "Completed Image ====> 19. a98db837574cede315b754d259e914a6.jpg\n",
      "Image URL: https://i.pinimg.com/originals/fb/b5/c0/fbb5c041ea2ff766d31a4c9be4e7e0fd.jpg\n",
      "Completed Image ====> 20. fbb5c041ea2ff766d31a4c9be4e7e0fd.jpg\n",
      "Image URL: https://farm9.static.flickr.com/8867/18355626318_1dc8e7f3b1_b.jpg\n",
      "Completed Image ====> 21. 18355626318_1dc8e7f3b1_b.jpg\n",
      "Image URL: https://static.tumblr.com/5a7e4a2a9ab83df084bb15d1d969a9c0/gqtbckg/WOLn8booc/tumblr_static_tumblr_static_m8pvfoeoksgws0wsco4k4kkw_640.jpg\n",
      "Completed Image ====> 22. tumblr_static_tumblr_static_m8pvfoeoksgws0wsco4k4kkw_640.jpg\n",
      "Image URL: https://scontent-iad3-1.cdninstagram.com/vp/bfbea9d9faf0ddcf8f84f54c5218f1b2/5B675F95/t51.2885-15/e15/10979690_405650312940969_187179182_n.jpg\n",
      "Completed Image ====> 23. 10979690_405650312940969_187179182_n.jpg\n",
      "Image URL: https://78.media.tumblr.com/tumblr_lhcgm5BD0y1qfe7og.jpg\n",
      "Completed Image ====> 24. tumblr_lhcgm5bd0y1qfe7og.jpg\n",
      "Image URL: https://i.pinimg.com/originals/85/fc/69/85fc69be8d8a4c9135cbbc6023928692.jpg\n",
      "Completed Image ====> 25. 85fc69be8d8a4c9135cbbc6023928692.jpg\n",
      "Image URL: https://i.pinimg.com/originals/95/eb/9a/95eb9abbc8d12e65945bbd60e1f48231.jpg\n",
      "Completed Image ====> 26. 95eb9abbc8d12e65945bbd60e1f48231.jpg\n",
      "Image URL: http://www.myproana.com/uploads/gallery/album_17981/gallery_216619_17981_5617.jpg\n",
      "Completed Image ====> 27. gallery_216619_17981_5617.jpg\n",
      "Image URL: http://25.media.tumblr.com/aa919f967702b162ae742cc0a84efc70/tumblr_n1ctglNKA51sf6ldyo1_500.jpg\n",
      "Completed Image ====> 28. tumblr_n1ctglnka51sf6ldyo1_500.jpg\n",
      "Image URL: https://data.whicdn.com/images/58149909/large.jpg\n",
      "Completed Image ====> 29. large.jpg\n",
      "Image URL: https://78.media.tumblr.com/tumblr_lhcgyilkiX1qfe7og.jpg\n",
      "Completed Image ====> 30. tumblr_lhcgyilkix1qfe7og.jpg\n",
      "Image URL: https://www.poemsearcher.com/images/poemsearcher/18/18a04a782f188cc92ad9fdd5746d6cb4.jpeg\n",
      "Completed Image ====> 31. 18a04a782f188cc92ad9fdd5746d6cb4.jpeg\n",
      "Image URL: https://78.media.tumblr.com/tumblr_m2ssq7rzAf1r2lp6m.jpg\n",
      "Completed Image ====> 32. tumblr_m2ssq7rzaf1r2lp6m.jpg\n",
      "Image URL: http://www.myproana.com/uploads/gallery/album_16708/gallery_198810_16708_4310.jpg\n",
      "Completed Image ====> 33. gallery_198810_16708_4310.jpg\n",
      "Image URL: https://i.pinimg.com/originals/2c/b8/c4/2cb8c4c402fd4ea7744206f453024669.jpg\n",
      "Completed Image ====> 34. 2cb8c4c402fd4ea7744206f453024669.jpg\n",
      "Image URL: https://static.tumblr.com/c7fc94bf5992c12b41d20a31ccc332d6/rglmcoo/8Bro7asur/tumblr_static_tumblr_static__640.jpg\n",
      "Completed Image ====> 35. tumblr_static_tumblr_static__640.jpg\n",
      "Image URL: http://i0.kym-cdn.com/photos/images/newsfeed/000/707/041/37b.png\n",
      "Completed Image ====> 36. 37b.png\n",
      "Image URL: https://s9.favim.com/orig/140720/anorexia-collarbones-girl-goals-Favim.com-1929149.jpg\n",
      "URLError on an image...trying next one... Error: <urlopen error [SSL: CERTIFICATE_VERIFY_FAILED] certificate verify failed (_ssl.c:833)>\n",
      "Image URL: https://cdn4.eyeem.com/thumb/7c2a5a5b5aacd777e8e9dbc7b1f13176ff6d4c70-1439669340/w/500\n",
      "Completed Image ====> 37. 500.jpg\n",
      "Image URL: https://pre00.deviantart.net/704e/th/pre/f/2011/281/4/f/anorexia_by_artsbymirella-d4c7o5q.jpg\n",
      "Completed Image ====> 38. anorexia_by_artsbymirella-d4c7o5q.jpg\n",
      "Image URL: http://37.media.tumblr.com/1fa1e9823bc5d2819e1d5ab44edb8f54/tumblr_n4mw2aZatz1tu2arfo1_500.jpg\n",
      "Completed Image ====> 39. tumblr_n4mw2azatz1tu2arfo1_500.jpg\n",
      "Image URL: https://img00.deviantart.net/a6dd/i/2005/268/e/e/anorexia_by_wicked6.jpg\n",
      "Completed Image ====> 40. anorexia_by_wicked6.jpg\n",
      "Image URL: https://diets-usa.com/wp-content/uploads/2015/03/anorexia_nervosa-600x330.jpg\n",
      "IOError on an image...trying next one... Error: The read operation timed out\n",
      "Image URL: https://data.whicdn.com/images/50649427/large.png\n",
      "Completed Image ====> 41. large.png\n",
      "Image URL: https://lawstreetmedia.com/wp-content/uploads/5227053414_99411694cf_o-1.jpg\n",
      "Completed Image ====> 42. 5227053414_99411694cf_o-1.jpg\n",
      "Image URL: https://78.media.tumblr.com/tumblr_lhch0hBbaO1qfe7og.jpg\n",
      "Completed Image ====> 43. tumblr_lhch0hbbao1qfe7og.jpg\n",
      "Image URL: http://www.hownutrition.info/wp-content/uploads/2016/05/Cures-for-Anorexia-Nervosa.jpg\n",
      "Completed Image ====> 44. cures-for-anorexia-nervosa.jpg\n",
      "Image URL: https://thesecret-proana.weebly.com/uploads/4/5/4/9/45498647/2278480_orig.jpg\n",
      "Completed Image ====> 45. 2278480_orig.jpg\n",
      "Image URL: https://78.media.tumblr.com/avatar_20af32d81135_512.pnj\n",
      "Completed Image ====> 46. avatar_20af32d81135_512.pnj\n",
      "Image URL: https://i.pinimg.com/originals/d4/32/31/d4323143ff33dd2b1782e6be8bffec49.jpg\n",
      "Completed Image ====> 47. d4323143ff33dd2b1782e6be8bffec49.jpg\n",
      "Image URL: https://78.media.tumblr.com/5f8e918abb425bbb3975b5fc87bcc9b7/tumblr_inline_oju6h6Xatf1uvqkbq_540.jpg\n",
      "Completed Image ====> 48. tumblr_inline_oju6h6xatf1uvqkbq_540.jpg\n",
      "Image URL: https://orig00.deviantart.net/d623/f/2011/076/5/6/say_no_to_anorexia__by_svetlyslaniia-d3bu3ua.jpg\n",
      "Completed Image ====> 49. say_no_to_anorexia__by_svetlyslaniia-d3bu3ua.jpg\n",
      "Image URL: https://78.media.tumblr.com/764bca32529d652585c59cc2a4105d67/tumblr_o7rtpf5NWc1vvglsjo1_500.jpg\n",
      "Completed Image ====> 50. tumblr_o7rtpf5nwc1vvglsjo1_500.jpg\n",
      "Image URL: https://78.media.tumblr.com/75d515e8a22a2081b6a524c3d00938eb/tumblr_mqsz2etKtL1s7rsyko1_400.gif\n"
     ]
    },
    {
     "name": "stdout",
     "output_type": "stream",
     "text": [
      "Completed Image ====> 51. tumblr_mqsz2etktl1s7rsyko1_400.gif\n",
      "Image URL: https://i.gifer.com/9usi.gif\n",
      "Completed Image ====> 52. 9usi.gif\n",
      "Image URL: https://i.pinimg.com/474x/1a/5a/c2/1a5ac205868ef2494e734d143752c13a.jpg\n",
      "Completed Image ====> 53. 1a5ac205868ef2494e734d143752c13a.jpg\n",
      "Image URL: https://i.pinimg.com/originals/2a/56/f7/2a56f773697903989bbe6ce95bf438d6.jpg\n",
      "Completed Image ====> 54. 2a56f773697903989bbe6ce95bf438d6.jpg\n",
      "Image URL: https://i.pinimg.com/originals/b5/6c/5e/b56c5e119bc3649042a13232a62dcaa9.jpg\n",
      "Completed Image ====> 55. b56c5e119bc3649042a13232a62dcaa9.jpg\n",
      "Image URL: https://thesecret-proana.weebly.com/uploads/4/5/4/9/45498647/1824007_orig.jpg\n",
      "Completed Image ====> 56. 1824007_orig.jpg\n",
      "Image URL: https://c8.alamy.com/comp/DT626R/selfharm-keywords-that-are-used-in-social-media-such-as-instagram-DT626R.jpg\n",
      "Completed Image ====> 57. selfharm-keywords-that-are-used-in-social-media-such-as-instagram-dt626r.jpg\n",
      "Image URL: https://image.slidesharecdn.com/anorexianervosapro-anorexia-121128131041-phpapp01/95/anorexia-nervosa-proanorexia-3-638.jpg?cb=1354108312\n",
      "Completed Image ====> 58. anorexia-nervosa-proanorexia-3-638.jpg\n",
      "Image URL: https://s11.favim.com/orig/161103/anorexia-thin-tumblr--Favim.com-4842506.jpeg\n",
      "URLError on an image...trying next one... Error: <urlopen error [SSL: CERTIFICATE_VERIFY_FAILED] certificate verify failed (_ssl.c:833)>\n",
      "Image URL: https://d3i6fh83elv35t.cloudfront.net/newshour/app/uploads/2014/02/ththinspriation-1024x576.jpg\n",
      "Completed Image ====> 59. ththinspriation-1024x576.jpg\n",
      "Image URL: https://cdn3.eyeem.com/thumb/4a350b14ba13b3387ee01ac172ccaf5defb8575b-1423869247/w/350\n",
      "Completed Image ====> 60. 350.jpg\n",
      "Image URL: https://78.media.tumblr.com/tumblr_lhjn00jgdR1qfe7og.png\n",
      "Completed Image ====> 61. tumblr_lhjn00jgdr1qfe7og.png\n",
      "Image URL: https://ai2-s2-public.s3.amazonaws.com/figures/2017-08-08/585f3fe3057b3cb7408296d470e1e6e5c4a87fc8/3-Table1-1.png\n",
      "Completed Image ====> 62. 3-table1-1.png\n",
      "Image URL: https://78.media.tumblr.com/b8a90f3e88decf873cc67f499f6087fb/tumblr_inline_mk3mp51abV1qbnpvq.gif\n",
      "Completed Image ====> 63. tumblr_inline_mk3mp51abv1qbnpvq.gif\n",
      "Image URL: https://az616578.vo.msecnd.net/files/2016/04/21/635967978750426174-1606179543_s-TUMBLR-ANOREXIA-large.jpg\n",
      "Completed Image ====> 64. 635967978750426174-1606179543_s-tumblr-anorexia-large.jpg\n",
      "Image URL: http://3.bp.blogspot.com/-LTYVprtQGvI/UHzuZowFexI/AAAAAAAAAN4/wo6qif6D8vw/s1600/Photo+on+12-10-12+at+10.20+AM+copy.jpg\n",
      "Completed Image ====> 65. photo+on+12-10-12+at+10.20+am+copy.jpg\n",
      "Image URL: https://data.whicdn.com/images/36562057/large.jpg\n",
      "Completed Image ====> 66. large.jpg\n",
      "Image URL: https://pics.me.me/i-wish-i-was-at-home-browsing-tumblr-bones-are-27669757.png\n",
      "Completed Image ====> 67. i-wish-i-was-at-home-browsing-tumblr-bones-are-27669757.png\n",
      "Image URL: https://hopebein.files.wordpress.com/2013/09/anorexia_by_micky14-d4uiu3n.jpg\n",
      "Completed Image ====> 68. anorexia_by_micky14-d4uiu3n.jpg\n",
      "Image URL: https://i.pinimg.com/originals/6b/30/d3/6b30d3de200e50315891e98f3cc23588.jpg\n",
      "Completed Image ====> 69. 6b30d3de200e50315891e98f3cc23588.jpg\n",
      "Image URL: http://ordinaryquotes.com/images/28199/jph_wrists_are_for_brace.jpg\n",
      "Completed Image ====> 70. jph_wrists_are_for_brace.jpg\n",
      "Image URL: http://www.awyeah.us/wp-content/uploads/images/eating-disorder-quotes-inspirational-anorexia-quotes-tumblr-anorexia-quotes.jpg\n",
      "Completed Image ====> 71. eating-disorder-quotes-inspirational-anorexia-quotes-tumblr-anorexia-quotes.jpg\n",
      "Image URL: https://i.ytimg.com/vi/6aOtqkHYCqo/hqdefault.jpg\n",
      "Completed Image ====> 72. hqdefault.jpg\n",
      "Image URL: http://www.prothinspo.com/sitebuilder/images/tumblr_n7v1xfBJO71tfcfwzo1_500-449x600.jpg\n",
      "Completed Image ====> 73. tumblr_n7v1xfbjo71tfcfwzo1_500-449x600.jpg\n",
      "Image URL: https://78.media.tumblr.com/tumblr_lhjn06sWwK1qfe7og.png\n",
      "Completed Image ====> 74. tumblr_lhjn06swwk1qfe7og.png\n",
      "Image URL: https://78.media.tumblr.com/d3dbe1e051ab02dec0d6b9e132389a53/tumblr_inline_mqf3dnY1qE1qz4rgp.jpg\n",
      "Completed Image ====> 75. tumblr_inline_mqf3dny1qe1qz4rgp.jpg\n",
      "Image URL: http://www.ounewsbureau.com/wp-content/uploads/2012/02/Holychuk-eating-girl-with-sign-pix.jpg\n",
      "Completed Image ====> 76. holychuk-eating-girl-with-sign-pix.jpg\n",
      "Image URL: https://68.media.tumblr.com/a5bb798d33dd8dde4a0546561fd1f3f0/tumblr_oaclfnj1Hj1vw1b9oo1_400.gif\n",
      "Completed Image ====> 77. tumblr_oaclfnj1hj1vw1b9oo1_400.gif\n",
      "Image URL: https://s9.favim.com/orig/130831/ana-anorexia-anorexic-depression-Favim.com-889374.jpg\n",
      "URLError on an image...trying next one... Error: <urlopen error [SSL: CERTIFICATE_VERIFY_FAILED] certificate verify failed (_ssl.c:833)>\n",
      "Image URL: https://img00.deviantart.net/4752/i/2012/275/a/b/disorders__anorexia_4_by_threedino-d5gkxk6.jpg\n",
      "Completed Image ====> 78. disorders__anorexia_4_by_threedino-d5gkxk6.jpg\n",
      "Image URL: https://78.media.tumblr.com/tumblr_lhe302vwtf1qfe7og.png\n",
      "Completed Image ====> 79. tumblr_lhe302vwtf1qfe7og.png\n",
      "Image URL: https://i.pinimg.com/originals/1f/7a/45/1f7a45e147b933c63f8a354eddeb22c1.jpg\n",
      "Completed Image ====> 80. 1f7a45e147b933c63f8a354eddeb22c1.jpg\n",
      "Image URL: https://78.media.tumblr.com/195072e394bcbece61576ce6f86918a1/tumblr_inline_n089s8Moyt1qbnpvq.jpg\n",
      "Completed Image ====> 81. tumblr_inline_n089s8moyt1qbnpvq.jpg\n",
      "Image URL: https://orig00.deviantart.net/eec1/f/2012/026/7/7/anorexia_by_xondhestsvans-d4nn8sw.jpg\n",
      "Completed Image ====> 82. anorexia_by_xondhestsvans-d4nn8sw.jpg\n",
      "Image URL: http://ppcorn.com/us/wp-content/uploads/sites/14/2016/02/Anorexia-1-ppcorn.jpg\n",
      "Completed Image ====> 83. anorexia-1-ppcorn.jpg\n",
      "Image URL: http://healthshire.com/wp-content/uploads/2013/05/tumblr-collar-bone.jpg\n",
      "Completed Image ====> 84. tumblr-collar-bone.jpg\n",
      "Image URL: http://2.bp.blogspot.com/-Vay_HN27wow/USWuWDLlKVI/AAAAAAAAANg/lJ5yGYsb5rk/s640/tumblr_mgidncSkL01riuxngo1_500.jpeg\n",
      "Completed Image ====> 85. tumblr_mgidncskl01riuxngo1_500.jpeg\n",
      "Image URL: https://media.giphy.com/media/6KvD06d9jAmPu/giphy.gif\n",
      "Completed Image ====> 86. giphy.gif\n",
      "Image URL: http://static.tumblr.com/kb33vvb/ryema2vgo/white.png\n",
      "Completed Image ====> 87. white.png\n",
      "Image URL: http://68.media.tumblr.com/c059038e46e623130f4a914be455bfad/tumblr_op8q6oIlKv1tvpdxko1_500.gif\n",
      "Completed Image ====> 88. tumblr_op8q6oilkv1tvpdxko1_500.gif\n",
      "Image URL: https://cdn0.tnwcdn.com/wp-content/blogs.dir/1/files/2012/02/Screen-Shot-2012-02-23-at-12.05.11-PM.png\n",
      "Completed Image ====> 89. screen-shot-2012-02-23-at-12.05.11-pm.png\n",
      "Image URL: https://data.whicdn.com/images/125027227/large.jpg\n",
      "Completed Image ====> 90. large.jpg\n",
      "Image URL: https://cdn3.eyeem.com/thumb/46365615d0f8a07aa3e16a2edf7f30a5d4e689dc-1493210936565/w/500\n",
      "Completed Image ====> 91. 500.jpg\n",
      "Image URL: https://www.poemsearcher.com/images/poemsearcher/cc/cc57334cbdec749daad97a9b078cbada.jpeg\n",
      "Completed Image ====> 92. cc57334cbdec749daad97a9b078cbada.jpeg\n",
      "Image URL: https://i.amz.mshcdn.com/ZIfpRJvzqmn-XSNXzwV8NXYXZ8Q=/950x534/https%3A%2F%2Fblueprint-api-production.s3.amazonaws.com%2Fuploads%2Fstory%2Fthumbnail%2F51347%2Fa3bedbf3-b91b-4309-8042-0bc9300e6afe.png\n",
      "Completed Image ====> 93. https%3a%2f%2fblueprint-api-production.s3.amazonaws.com%2fuploads%2fstory%2fthumbnail%2f51347%2fa3bedbf3-b91b-4309-8042-0bc9300e6afe.png\n",
      "Image URL: https://i.pinimg.com/originals/10/06/38/100638e8a1fa440e31c0f6372c36cf22.png\n",
      "Completed Image ====> 94. 100638e8a1fa440e31c0f6372c36cf22.png\n",
      "Image URL: https://78.media.tumblr.com/939c9c17c788650120693eeed2925061/tumblr_inline_nf5jgrbfWZ1qc50je.jpg\n",
      "Completed Image ====> 95. tumblr_inline_nf5jgrbfwz1qc50je.jpg\n",
      "\n",
      "\n",
      "Unfortunately all 100 could not be downloaded because some images were not downloadable. 95 is all we got for this search filter!\n",
      "\n",
      "Errors: 5\n",
      "\n",
      "{'anorexia tumblr': ['/home/victoria/projects/at-risk-id-images/notebooks_and_data/downloads/anorexia tumblr/1. 9c8d330fd32cee066ae7ecf9a8d455e2.jpg', '/home/victoria/projects/at-risk-id-images/notebooks_and_data/downloads/anorexia tumblr/2. large.jpg', '/home/victoria/projects/at-risk-id-images/notebooks_and_data/downloads/anorexia tumblr/3. e8b8acc89fe0afd4b1203acd3baf76d6.jpg', '/home/victoria/projects/at-risk-id-images/notebooks_and_data/downloads/anorexia tumblr/4. f33884e8519a34410621381fc38a2335.jpg', '/home/victoria/projects/at-risk-id-images/notebooks_and_data/downloads/anorexia tumblr/5. nike.png', '/home/victoria/projects/at-risk-id-images/notebooks_and_data/downloads/anorexia tumblr/6. tumblr_static_tumblr_static_b6sg07lxzw8wos00s8o8wwskg_640.jpg', '/home/victoria/projects/at-risk-id-images/notebooks_and_data/downloads/anorexia tumblr/7. tumblr_lhcgkg0bvk1qfe7og.jpg', '/home/victoria/projects/at-risk-id-images/notebooks_and_data/downloads/anorexia tumblr/8. anorexia-1-large-msg-1196064874671.jpg', '/home/victoria/projects/at-risk-id-images/notebooks_and_data/downloads/anorexia tumblr/9. tumblr_static_tumblr_static_onahm0m216skw4ggc0w48w00_640.jpg', '/home/victoria/projects/at-risk-id-images/notebooks_and_data/downloads/anorexia tumblr/10. tumblr_lhjn7cityu1qfe7og.png', '/home/victoria/projects/at-risk-id-images/notebooks_and_data/downloads/anorexia tumblr/11. tumblr_static_tumblr_static__640.png', '/home/victoria/projects/at-risk-id-images/notebooks_and_data/downloads/anorexia tumblr/12. wqqofvufyvtbtmo-1600x900-nopad.jpg', '/home/victoria/projects/at-risk-id-images/notebooks_and_data/downloads/anorexia tumblr/13. 5df8b6ec416f46d7f2964e767d5bb9ca.jpg', '/home/victoria/projects/at-risk-id-images/notebooks_and_data/downloads/anorexia tumblr/14. anorexia_nervosa_by_bexa_rose12-d5z4l7e.jpg', '/home/victoria/projects/at-risk-id-images/notebooks_and_data/downloads/anorexia tumblr/15. tumblr_inline_p9ycwubock1vhd2gz_640.jpg', '/home/victoria/projects/at-risk-id-images/notebooks_and_data/downloads/anorexia tumblr/16. anorexia_by_precociousimone.jpg', '/home/victoria/projects/at-risk-id-images/notebooks_and_data/downloads/anorexia tumblr/17. cc30810eba8e09b51b68609608dd4bdd.jpg', '/home/victoria/projects/at-risk-id-images/notebooks_and_data/downloads/anorexia tumblr/18. e33bfdfc4781ed952a2a53038c6df50c.gif', '/home/victoria/projects/at-risk-id-images/notebooks_and_data/downloads/anorexia tumblr/19. a98db837574cede315b754d259e914a6.jpg', '/home/victoria/projects/at-risk-id-images/notebooks_and_data/downloads/anorexia tumblr/20. fbb5c041ea2ff766d31a4c9be4e7e0fd.jpg', '/home/victoria/projects/at-risk-id-images/notebooks_and_data/downloads/anorexia tumblr/21. 18355626318_1dc8e7f3b1_b.jpg', '/home/victoria/projects/at-risk-id-images/notebooks_and_data/downloads/anorexia tumblr/22. tumblr_static_tumblr_static_m8pvfoeoksgws0wsco4k4kkw_640.jpg', '/home/victoria/projects/at-risk-id-images/notebooks_and_data/downloads/anorexia tumblr/23. 10979690_405650312940969_187179182_n.jpg', '/home/victoria/projects/at-risk-id-images/notebooks_and_data/downloads/anorexia tumblr/24. tumblr_lhcgm5bd0y1qfe7og.jpg', '/home/victoria/projects/at-risk-id-images/notebooks_and_data/downloads/anorexia tumblr/25. 85fc69be8d8a4c9135cbbc6023928692.jpg', '/home/victoria/projects/at-risk-id-images/notebooks_and_data/downloads/anorexia tumblr/26. 95eb9abbc8d12e65945bbd60e1f48231.jpg', '/home/victoria/projects/at-risk-id-images/notebooks_and_data/downloads/anorexia tumblr/27. gallery_216619_17981_5617.jpg', '/home/victoria/projects/at-risk-id-images/notebooks_and_data/downloads/anorexia tumblr/28. tumblr_n1ctglnka51sf6ldyo1_500.jpg', '/home/victoria/projects/at-risk-id-images/notebooks_and_data/downloads/anorexia tumblr/29. large.jpg', '/home/victoria/projects/at-risk-id-images/notebooks_and_data/downloads/anorexia tumblr/30. tumblr_lhcgyilkix1qfe7og.jpg', '/home/victoria/projects/at-risk-id-images/notebooks_and_data/downloads/anorexia tumblr/31. 18a04a782f188cc92ad9fdd5746d6cb4.jpeg', '/home/victoria/projects/at-risk-id-images/notebooks_and_data/downloads/anorexia tumblr/32. tumblr_m2ssq7rzaf1r2lp6m.jpg', '/home/victoria/projects/at-risk-id-images/notebooks_and_data/downloads/anorexia tumblr/33. gallery_198810_16708_4310.jpg', '/home/victoria/projects/at-risk-id-images/notebooks_and_data/downloads/anorexia tumblr/34. 2cb8c4c402fd4ea7744206f453024669.jpg', '/home/victoria/projects/at-risk-id-images/notebooks_and_data/downloads/anorexia tumblr/35. tumblr_static_tumblr_static__640.jpg', '/home/victoria/projects/at-risk-id-images/notebooks_and_data/downloads/anorexia tumblr/36. 37b.png', '/home/victoria/projects/at-risk-id-images/notebooks_and_data/downloads/anorexia tumblr/37. 500.jpg', '/home/victoria/projects/at-risk-id-images/notebooks_and_data/downloads/anorexia tumblr/38. anorexia_by_artsbymirella-d4c7o5q.jpg', '/home/victoria/projects/at-risk-id-images/notebooks_and_data/downloads/anorexia tumblr/39. tumblr_n4mw2azatz1tu2arfo1_500.jpg', '/home/victoria/projects/at-risk-id-images/notebooks_and_data/downloads/anorexia tumblr/40. anorexia_by_wicked6.jpg', '/home/victoria/projects/at-risk-id-images/notebooks_and_data/downloads/anorexia tumblr/41. large.png', '/home/victoria/projects/at-risk-id-images/notebooks_and_data/downloads/anorexia tumblr/42. 5227053414_99411694cf_o-1.jpg', '/home/victoria/projects/at-risk-id-images/notebooks_and_data/downloads/anorexia tumblr/43. tumblr_lhch0hbbao1qfe7og.jpg', '/home/victoria/projects/at-risk-id-images/notebooks_and_data/downloads/anorexia tumblr/44. cures-for-anorexia-nervosa.jpg', '/home/victoria/projects/at-risk-id-images/notebooks_and_data/downloads/anorexia tumblr/45. 2278480_orig.jpg', '/home/victoria/projects/at-risk-id-images/notebooks_and_data/downloads/anorexia tumblr/46. avatar_20af32d81135_512.pnj', '/home/victoria/projects/at-risk-id-images/notebooks_and_data/downloads/anorexia tumblr/47. d4323143ff33dd2b1782e6be8bffec49.jpg', '/home/victoria/projects/at-risk-id-images/notebooks_and_data/downloads/anorexia tumblr/48. tumblr_inline_oju6h6xatf1uvqkbq_540.jpg', '/home/victoria/projects/at-risk-id-images/notebooks_and_data/downloads/anorexia tumblr/49. say_no_to_anorexia__by_svetlyslaniia-d3bu3ua.jpg', '/home/victoria/projects/at-risk-id-images/notebooks_and_data/downloads/anorexia tumblr/50. tumblr_o7rtpf5nwc1vvglsjo1_500.jpg', '/home/victoria/projects/at-risk-id-images/notebooks_and_data/downloads/anorexia tumblr/51. tumblr_mqsz2etktl1s7rsyko1_400.gif', '/home/victoria/projects/at-risk-id-images/notebooks_and_data/downloads/anorexia tumblr/52. 9usi.gif', '/home/victoria/projects/at-risk-id-images/notebooks_and_data/downloads/anorexia tumblr/53. 1a5ac205868ef2494e734d143752c13a.jpg', '/home/victoria/projects/at-risk-id-images/notebooks_and_data/downloads/anorexia tumblr/54. 2a56f773697903989bbe6ce95bf438d6.jpg', '/home/victoria/projects/at-risk-id-images/notebooks_and_data/downloads/anorexia tumblr/55. b56c5e119bc3649042a13232a62dcaa9.jpg', '/home/victoria/projects/at-risk-id-images/notebooks_and_data/downloads/anorexia tumblr/56. 1824007_orig.jpg', '/home/victoria/projects/at-risk-id-images/notebooks_and_data/downloads/anorexia tumblr/57. selfharm-keywords-that-are-used-in-social-media-such-as-instagram-dt626r.jpg', '/home/victoria/projects/at-risk-id-images/notebooks_and_data/downloads/anorexia tumblr/58. anorexia-nervosa-proanorexia-3-638.jpg', '/home/victoria/projects/at-risk-id-images/notebooks_and_data/downloads/anorexia tumblr/59. ththinspriation-1024x576.jpg', '/home/victoria/projects/at-risk-id-images/notebooks_and_data/downloads/anorexia tumblr/60. 350.jpg', '/home/victoria/projects/at-risk-id-images/notebooks_and_data/downloads/anorexia tumblr/61. tumblr_lhjn00jgdr1qfe7og.png', '/home/victoria/projects/at-risk-id-images/notebooks_and_data/downloads/anorexia tumblr/62. 3-table1-1.png', '/home/victoria/projects/at-risk-id-images/notebooks_and_data/downloads/anorexia tumblr/63. tumblr_inline_mk3mp51abv1qbnpvq.gif', '/home/victoria/projects/at-risk-id-images/notebooks_and_data/downloads/anorexia tumblr/64. 635967978750426174-1606179543_s-tumblr-anorexia-large.jpg', '/home/victoria/projects/at-risk-id-images/notebooks_and_data/downloads/anorexia tumblr/65. photo+on+12-10-12+at+10.20+am+copy.jpg', '/home/victoria/projects/at-risk-id-images/notebooks_and_data/downloads/anorexia tumblr/66. large.jpg', '/home/victoria/projects/at-risk-id-images/notebooks_and_data/downloads/anorexia tumblr/67. i-wish-i-was-at-home-browsing-tumblr-bones-are-27669757.png', '/home/victoria/projects/at-risk-id-images/notebooks_and_data/downloads/anorexia tumblr/68. anorexia_by_micky14-d4uiu3n.jpg', '/home/victoria/projects/at-risk-id-images/notebooks_and_data/downloads/anorexia tumblr/69. 6b30d3de200e50315891e98f3cc23588.jpg', '/home/victoria/projects/at-risk-id-images/notebooks_and_data/downloads/anorexia tumblr/70. jph_wrists_are_for_brace.jpg', '/home/victoria/projects/at-risk-id-images/notebooks_and_data/downloads/anorexia tumblr/71. eating-disorder-quotes-inspirational-anorexia-quotes-tumblr-anorexia-quotes.jpg', '/home/victoria/projects/at-risk-id-images/notebooks_and_data/downloads/anorexia tumblr/72. hqdefault.jpg', '/home/victoria/projects/at-risk-id-images/notebooks_and_data/downloads/anorexia tumblr/73. tumblr_n7v1xfbjo71tfcfwzo1_500-449x600.jpg', '/home/victoria/projects/at-risk-id-images/notebooks_and_data/downloads/anorexia tumblr/74. tumblr_lhjn06swwk1qfe7og.png', '/home/victoria/projects/at-risk-id-images/notebooks_and_data/downloads/anorexia tumblr/75. tumblr_inline_mqf3dny1qe1qz4rgp.jpg', '/home/victoria/projects/at-risk-id-images/notebooks_and_data/downloads/anorexia tumblr/76. holychuk-eating-girl-with-sign-pix.jpg', '/home/victoria/projects/at-risk-id-images/notebooks_and_data/downloads/anorexia tumblr/77. tumblr_oaclfnj1hj1vw1b9oo1_400.gif', '/home/victoria/projects/at-risk-id-images/notebooks_and_data/downloads/anorexia tumblr/78. disorders__anorexia_4_by_threedino-d5gkxk6.jpg', '/home/victoria/projects/at-risk-id-images/notebooks_and_data/downloads/anorexia tumblr/79. tumblr_lhe302vwtf1qfe7og.png', '/home/victoria/projects/at-risk-id-images/notebooks_and_data/downloads/anorexia tumblr/80. 1f7a45e147b933c63f8a354eddeb22c1.jpg', '/home/victoria/projects/at-risk-id-images/notebooks_and_data/downloads/anorexia tumblr/81. tumblr_inline_n089s8moyt1qbnpvq.jpg', '/home/victoria/projects/at-risk-id-images/notebooks_and_data/downloads/anorexia tumblr/82. anorexia_by_xondhestsvans-d4nn8sw.jpg', '/home/victoria/projects/at-risk-id-images/notebooks_and_data/downloads/anorexia tumblr/83. anorexia-1-ppcorn.jpg', '/home/victoria/projects/at-risk-id-images/notebooks_and_data/downloads/anorexia tumblr/84. tumblr-collar-bone.jpg', '/home/victoria/projects/at-risk-id-images/notebooks_and_data/downloads/anorexia tumblr/85. tumblr_mgidncskl01riuxngo1_500.jpeg', '/home/victoria/projects/at-risk-id-images/notebooks_and_data/downloads/anorexia tumblr/86. giphy.gif', '/home/victoria/projects/at-risk-id-images/notebooks_and_data/downloads/anorexia tumblr/87. white.png', '/home/victoria/projects/at-risk-id-images/notebooks_and_data/downloads/anorexia tumblr/88. tumblr_op8q6oilkv1tvpdxko1_500.gif', '/home/victoria/projects/at-risk-id-images/notebooks_and_data/downloads/anorexia tumblr/89. screen-shot-2012-02-23-at-12.05.11-pm.png', '/home/victoria/projects/at-risk-id-images/notebooks_and_data/downloads/anorexia tumblr/90. large.jpg', '/home/victoria/projects/at-risk-id-images/notebooks_and_data/downloads/anorexia tumblr/91. 500.jpg', '/home/victoria/projects/at-risk-id-images/notebooks_and_data/downloads/anorexia tumblr/92. cc57334cbdec749daad97a9b078cbada.jpeg', '/home/victoria/projects/at-risk-id-images/notebooks_and_data/downloads/anorexia tumblr/93. https%3a%2f%2fblueprint-api-production.s3.amazonaws.com%2fuploads%2fstory%2fthumbnail%2f51347%2fa3bedbf3-b91b-4309-8042-0bc9300e6afe.png', '/home/victoria/projects/at-risk-id-images/notebooks_and_data/downloads/anorexia tumblr/94. 100638e8a1fa440e31c0f6372c36cf22.png', '/home/victoria/projects/at-risk-id-images/notebooks_and_data/downloads/anorexia tumblr/95. tumblr_inline_nf5jgrbfwz1qc50je.jpg']}\n"
     ]
    }
   ],
   "source": [
    "arguments = {\"keywords\": \"anorexia tumblr\", \"limit\": 100, \"print_urls\": True}\n",
    "paths = response.download(arguments)\n",
    "print(paths)"
   ]
  },
  {
   "cell_type": "code",
   "execution_count": null,
   "metadata": {},
   "outputs": [],
   "source": []
  }
 ],
 "metadata": {
  "kernelspec": {
   "display_name": "Python 3",
   "language": "python",
   "name": "python3"
  },
  "language_info": {
   "codemirror_mode": {
    "name": "ipython",
    "version": 3
   },
   "file_extension": ".py",
   "mimetype": "text/x-python",
   "name": "python",
   "nbconvert_exporter": "python",
   "pygments_lexer": "ipython3",
   "version": "3.6.5"
  }
 },
 "nbformat": 4,
 "nbformat_minor": 2
}
